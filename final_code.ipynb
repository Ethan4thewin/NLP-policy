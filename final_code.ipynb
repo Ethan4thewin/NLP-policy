{
  "cells": [
    {
      "cell_type": "markdown",
      "metadata": {
        "id": "view-in-github",
        "colab_type": "text"
      },
      "source": [
        "<a href=\"https://colab.research.google.com/github/Ethan4thewin/NLP-policy/blob/main/final_code.ipynb\" target=\"_parent\"><img src=\"https://colab.research.google.com/assets/colab-badge.svg\" alt=\"Open In Colab\"/></a>"
      ]
    },
    {
      "cell_type": "code",
      "source": [
        "!pip install transformers\n",
        "!pip install evaluate"
      ],
      "metadata": {
        "colab": {
          "base_uri": "https://localhost:8080/"
        },
        "id": "JBC5DXnaWY21",
        "outputId": "292ca6d6-228c-4df7-99d5-f877f8d340b1"
      },
      "execution_count": 5,
      "outputs": [
        {
          "output_type": "stream",
          "name": "stdout",
          "text": [
            "Requirement already satisfied: transformers in /usr/local/lib/python3.10/dist-packages (4.35.0)\n",
            "Requirement already satisfied: filelock in /usr/local/lib/python3.10/dist-packages (from transformers) (3.12.4)\n",
            "Requirement already satisfied: huggingface-hub<1.0,>=0.16.4 in /usr/local/lib/python3.10/dist-packages (from transformers) (0.17.3)\n",
            "Requirement already satisfied: numpy>=1.17 in /usr/local/lib/python3.10/dist-packages (from transformers) (1.23.5)\n",
            "Requirement already satisfied: packaging>=20.0 in /usr/local/lib/python3.10/dist-packages (from transformers) (23.2)\n",
            "Requirement already satisfied: pyyaml>=5.1 in /usr/local/lib/python3.10/dist-packages (from transformers) (6.0.1)\n",
            "Requirement already satisfied: regex!=2019.12.17 in /usr/local/lib/python3.10/dist-packages (from transformers) (2023.6.3)\n",
            "Requirement already satisfied: requests in /usr/local/lib/python3.10/dist-packages (from transformers) (2.31.0)\n",
            "Requirement already satisfied: tokenizers<0.15,>=0.14 in /usr/local/lib/python3.10/dist-packages (from transformers) (0.14.1)\n",
            "Requirement already satisfied: safetensors>=0.3.1 in /usr/local/lib/python3.10/dist-packages (from transformers) (0.4.0)\n",
            "Requirement already satisfied: tqdm>=4.27 in /usr/local/lib/python3.10/dist-packages (from transformers) (4.66.1)\n",
            "Requirement already satisfied: fsspec in /usr/local/lib/python3.10/dist-packages (from huggingface-hub<1.0,>=0.16.4->transformers) (2023.6.0)\n",
            "Requirement already satisfied: typing-extensions>=3.7.4.3 in /usr/local/lib/python3.10/dist-packages (from huggingface-hub<1.0,>=0.16.4->transformers) (4.5.0)\n",
            "Requirement already satisfied: charset-normalizer<4,>=2 in /usr/local/lib/python3.10/dist-packages (from requests->transformers) (3.3.1)\n",
            "Requirement already satisfied: idna<4,>=2.5 in /usr/local/lib/python3.10/dist-packages (from requests->transformers) (3.4)\n",
            "Requirement already satisfied: urllib3<3,>=1.21.1 in /usr/local/lib/python3.10/dist-packages (from requests->transformers) (2.0.7)\n",
            "Requirement already satisfied: certifi>=2017.4.17 in /usr/local/lib/python3.10/dist-packages (from requests->transformers) (2023.7.22)\n",
            "Collecting evaluate\n",
            "  Downloading evaluate-0.4.1-py3-none-any.whl (84 kB)\n",
            "\u001b[2K     \u001b[90m━━━━━━━━━━━━━━━━━━━━━━━━━━━━━━━━━━━━━━━━\u001b[0m \u001b[32m84.1/84.1 kB\u001b[0m \u001b[31m1.2 MB/s\u001b[0m eta \u001b[36m0:00:00\u001b[0m\n",
            "\u001b[?25hCollecting datasets>=2.0.0 (from evaluate)\n",
            "  Downloading datasets-2.14.6-py3-none-any.whl (493 kB)\n",
            "\u001b[2K     \u001b[90m━━━━━━━━━━━━━━━━━━━━━━━━━━━━━━━━━━━━━━━━\u001b[0m \u001b[32m493.7/493.7 kB\u001b[0m \u001b[31m13.0 MB/s\u001b[0m eta \u001b[36m0:00:00\u001b[0m\n",
            "\u001b[?25hRequirement already satisfied: numpy>=1.17 in /usr/local/lib/python3.10/dist-packages (from evaluate) (1.23.5)\n",
            "Collecting dill (from evaluate)\n",
            "  Downloading dill-0.3.7-py3-none-any.whl (115 kB)\n",
            "\u001b[2K     \u001b[90m━━━━━━━━━━━━━━━━━━━━━━━━━━━━━━━━━━━━━━━━\u001b[0m \u001b[32m115.3/115.3 kB\u001b[0m \u001b[31m12.6 MB/s\u001b[0m eta \u001b[36m0:00:00\u001b[0m\n",
            "\u001b[?25hRequirement already satisfied: pandas in /usr/local/lib/python3.10/dist-packages (from evaluate) (1.5.3)\n",
            "Requirement already satisfied: requests>=2.19.0 in /usr/local/lib/python3.10/dist-packages (from evaluate) (2.31.0)\n",
            "Requirement already satisfied: tqdm>=4.62.1 in /usr/local/lib/python3.10/dist-packages (from evaluate) (4.66.1)\n",
            "Requirement already satisfied: xxhash in /usr/local/lib/python3.10/dist-packages (from evaluate) (3.4.1)\n",
            "Collecting multiprocess (from evaluate)\n",
            "  Downloading multiprocess-0.70.15-py310-none-any.whl (134 kB)\n",
            "\u001b[2K     \u001b[90m━━━━━━━━━━━━━━━━━━━━━━━━━━━━━━━━━━━━━━━━\u001b[0m \u001b[32m134.8/134.8 kB\u001b[0m \u001b[31m12.8 MB/s\u001b[0m eta \u001b[36m0:00:00\u001b[0m\n",
            "\u001b[?25hRequirement already satisfied: fsspec[http]>=2021.05.0 in /usr/local/lib/python3.10/dist-packages (from evaluate) (2023.6.0)\n",
            "Requirement already satisfied: huggingface-hub>=0.7.0 in /usr/local/lib/python3.10/dist-packages (from evaluate) (0.17.3)\n",
            "Requirement already satisfied: packaging in /usr/local/lib/python3.10/dist-packages (from evaluate) (23.2)\n",
            "Collecting responses<0.19 (from evaluate)\n",
            "  Downloading responses-0.18.0-py3-none-any.whl (38 kB)\n",
            "Requirement already satisfied: pyarrow>=8.0.0 in /usr/local/lib/python3.10/dist-packages (from datasets>=2.0.0->evaluate) (9.0.0)\n",
            "Requirement already satisfied: aiohttp in /usr/local/lib/python3.10/dist-packages (from datasets>=2.0.0->evaluate) (3.8.6)\n",
            "Requirement already satisfied: pyyaml>=5.1 in /usr/local/lib/python3.10/dist-packages (from datasets>=2.0.0->evaluate) (6.0.1)\n",
            "Requirement already satisfied: filelock in /usr/local/lib/python3.10/dist-packages (from huggingface-hub>=0.7.0->evaluate) (3.12.4)\n",
            "Requirement already satisfied: typing-extensions>=3.7.4.3 in /usr/local/lib/python3.10/dist-packages (from huggingface-hub>=0.7.0->evaluate) (4.5.0)\n",
            "Requirement already satisfied: charset-normalizer<4,>=2 in /usr/local/lib/python3.10/dist-packages (from requests>=2.19.0->evaluate) (3.3.1)\n",
            "Requirement already satisfied: idna<4,>=2.5 in /usr/local/lib/python3.10/dist-packages (from requests>=2.19.0->evaluate) (3.4)\n",
            "Requirement already satisfied: urllib3<3,>=1.21.1 in /usr/local/lib/python3.10/dist-packages (from requests>=2.19.0->evaluate) (2.0.7)\n",
            "Requirement already satisfied: certifi>=2017.4.17 in /usr/local/lib/python3.10/dist-packages (from requests>=2.19.0->evaluate) (2023.7.22)\n",
            "Requirement already satisfied: python-dateutil>=2.8.1 in /usr/local/lib/python3.10/dist-packages (from pandas->evaluate) (2.8.2)\n",
            "Requirement already satisfied: pytz>=2020.1 in /usr/local/lib/python3.10/dist-packages (from pandas->evaluate) (2023.3.post1)\n",
            "Requirement already satisfied: attrs>=17.3.0 in /usr/local/lib/python3.10/dist-packages (from aiohttp->datasets>=2.0.0->evaluate) (23.1.0)\n",
            "Requirement already satisfied: multidict<7.0,>=4.5 in /usr/local/lib/python3.10/dist-packages (from aiohttp->datasets>=2.0.0->evaluate) (6.0.4)\n",
            "Requirement already satisfied: async-timeout<5.0,>=4.0.0a3 in /usr/local/lib/python3.10/dist-packages (from aiohttp->datasets>=2.0.0->evaluate) (4.0.3)\n",
            "Requirement already satisfied: yarl<2.0,>=1.0 in /usr/local/lib/python3.10/dist-packages (from aiohttp->datasets>=2.0.0->evaluate) (1.9.2)\n",
            "Requirement already satisfied: frozenlist>=1.1.1 in /usr/local/lib/python3.10/dist-packages (from aiohttp->datasets>=2.0.0->evaluate) (1.4.0)\n",
            "Requirement already satisfied: aiosignal>=1.1.2 in /usr/local/lib/python3.10/dist-packages (from aiohttp->datasets>=2.0.0->evaluate) (1.3.1)\n",
            "Requirement already satisfied: six>=1.5 in /usr/local/lib/python3.10/dist-packages (from python-dateutil>=2.8.1->pandas->evaluate) (1.16.0)\n",
            "Installing collected packages: dill, responses, multiprocess, datasets, evaluate\n",
            "Successfully installed datasets-2.14.6 dill-0.3.7 evaluate-0.4.1 multiprocess-0.70.15 responses-0.18.0\n"
          ]
        }
      ]
    },
    {
      "cell_type": "markdown",
      "metadata": {
        "id": "bpyJNFDyRJ2h"
      },
      "source": [
        "Import libraries and download necessary packages + load dataset for training model"
      ]
    },
    {
      "cell_type": "code",
      "execution_count": 10,
      "metadata": {
        "id": "er-vXQGZRJ2n"
      },
      "outputs": [],
      "source": [
        "# Packages to work with datasets for training classification\n",
        "import pandas as pd\n",
        "import numpy as np\n",
        "\n",
        "# Packages to pre-process data\n",
        "import re\n",
        "import string\n",
        "import nltk  #Natural Language Tool Kit\n",
        "from nltk.tokenize import word_tokenize\n",
        "from nltk.corpus import stopwords\n",
        "from nltk.stem import WordNetLemmatizer\n",
        "\n",
        "# Packages to embed the datapoints\n",
        "import requests\n",
        "from gensim.models import KeyedVectors\n",
        "\n",
        "# Packages and models for classification task\n",
        "from sklearn.model_selection import train_test_split\n",
        "from sklearn.metrics import classification_report, accuracy_score\n",
        "from sklearn.model_selection import cross_val_score\n",
        "from sklearn.svm import SVC\n",
        "from sklearn.linear_model import LogisticRegression\n",
        "from sklearn.ensemble import RandomForestClassifier\n",
        "from sklearn.tree import DecisionTreeClassifier\n",
        "from keras.models import Sequential\n",
        "from keras.layers import Dense, Dropout, Flatten, Conv1D, MaxPooling1D, Embedding, GlobalMaxPooling1D\n",
        "from keras.models import clone_model\n",
        "\n",
        "# Packages for summarisation\n",
        "from transformers import pipeline\n",
        "import evaluate\n",
        "\n",
        "# Load the data\n",
        "df = pd.read_excel('privacy2_modified.xlsx')"
      ]
    },
    {
      "cell_type": "markdown",
      "metadata": {
        "id": "vdJkNKsERJ2q"
      },
      "source": [
        "Preprocessing dataset"
      ]
    },
    {
      "cell_type": "code",
      "execution_count": 12,
      "metadata": {
        "colab": {
          "base_uri": "https://localhost:8080/"
        },
        "id": "c0jbNU-PRJ2r",
        "outputId": "49ae9666-2587-4933-ffc2-080faa88ef81"
      },
      "outputs": [
        {
          "output_type": "stream",
          "name": "stderr",
          "text": [
            "[nltk_data] Downloading package punkt to /root/nltk_data...\n",
            "[nltk_data]   Unzipping tokenizers/punkt.zip.\n",
            "[nltk_data] Downloading package wordnet to /root/nltk_data...\n",
            "[nltk_data] Downloading package stopwords to /root/nltk_data...\n",
            "[nltk_data]   Unzipping corpora/stopwords.zip.\n"
          ]
        }
      ],
      "source": [
        "# Download necessary NLTK datasets for pre-processing\n",
        "nltk.download('punkt')\n",
        "nltk.download('wordnet')\n",
        "nltk.download('stopwords')\n",
        "\n",
        "# Loading necessary tools for pre-processing\n",
        "stop_words = set(stopwords.words('english'))\n",
        "lemmatizer = WordNetLemmatizer()\n",
        "\n",
        "\n",
        "# Pre-proccessing\n",
        "def preprocess_policy(policy):\n",
        "    policy = policy.lower() # Lower case the datapoint\n",
        "    policy = re.sub('[%s]' % re.escape(string.punctuation), '', policy) # Remove special characters\n",
        "    policy = re.sub('\\w*\\d\\w*', '', policy) # Remove unmeaning words such as 123, a1b\n",
        "    tokens = word_tokenize(policy)\n",
        "    tokens = [lemmatizer.lemmatize(token) for token in tokens if token not in stop_words]\n",
        "    # tokens = [stemmer.stem(token) for token in tokens] #No need Stemming due to policy's nature\n",
        "    # Stemming in this case can lead to over stemming\n",
        "    return tokens\n",
        "\n",
        "# Apply \"preprocess_policy()\" for the training datasets\n",
        "df['tokens'] = df['text'].apply(preprocess_policy)"
      ]
    },
    {
      "cell_type": "markdown",
      "metadata": {
        "id": "FsAasOo-RJ2t"
      },
      "source": [
        "Feature Extraction"
      ]
    },
    {
      "cell_type": "code",
      "execution_count": 13,
      "metadata": {
        "id": "uvxv6k1-RJ2u"
      },
      "outputs": [],
      "source": [
        "# Load Google News Word2Vec Model - Word embedding method\n",
        "embedding_model = KeyedVectors.load_word2vec_format('GoogleNews-vectors-negative300.bin', binary=True)\n",
        "\n",
        "# Create Vector Representations for Policies\n",
        "def get_average_word2vec(preprocessed_datapoint, w2v_model, generate_missing=False, k=300):\n",
        "    if len(preprocessed_datapoint)<1:\n",
        "        return np.zeros(k)\n",
        "\n",
        "    # Assign vector value if token is not in model: depends on generate_missing, = 0 in this case\n",
        "    if generate_missing:\n",
        "        vectorized = [w2v_model[token] if token in w2v_model else np.random.rand(k) for token in preprocessed_datapoint]\n",
        "    else:\n",
        "        vectorized = [w2v_model[token] if token in w2v_model else np.zeros(k) for token in preprocessed_datapoint]\n",
        "\n",
        "    # Calculate the average vector of the datapoint\n",
        "    # by dividing sum of values in same axis to the number of token in a datapoint\n",
        "    length_datapoint = len(vectorized)\n",
        "    summed_vector = np.sum(vectorized, axis=0)\n",
        "    averaged_vector = np.divide(summed_vector, length_datapoint)\n",
        "\n",
        "    return averaged_vector\n",
        "\n",
        "def get_word2vec_embeddings(model, data, generate_missing=False):\n",
        "    embeddings = data['tokens'].apply(lambda x: get_average_word2vec(x, model, generate_missing=generate_missing))\n",
        "    return list(embeddings)\n",
        "\n",
        "\n",
        "w2v_data = get_word2vec_embeddings(embedding_model, df)\n"
      ]
    },
    {
      "cell_type": "markdown",
      "metadata": {
        "id": "OboZs37uRJ2u"
      },
      "source": [
        "Training model to classify - split train,test dataset"
      ]
    },
    {
      "cell_type": "code",
      "execution_count": 14,
      "metadata": {
        "id": "nqw6_kslRJ2v"
      },
      "outputs": [],
      "source": [
        "# Train/Test Split\n",
        "X_train, X_test, y_train, y_test = train_test_split(w2v_data, df['type'], test_size=0.2, random_state=38)"
      ]
    },
    {
      "cell_type": "markdown",
      "metadata": {
        "id": "QbW7wY6ZRJ2v"
      },
      "source": [
        "Random Forest"
      ]
    },
    {
      "cell_type": "code",
      "execution_count": 15,
      "metadata": {
        "colab": {
          "base_uri": "https://localhost:8080/"
        },
        "id": "vO-si2uoRJ2w",
        "outputId": "d8a716de-65b0-4e0a-c4c7-7f252a391dcf"
      },
      "outputs": [
        {
          "output_type": "stream",
          "name": "stdout",
          "text": [
            "Train Accuracy:  0.9990859232175503\n",
            "Accuracy:  0.9014598540145985\n",
            "\n",
            "Classification Report:\n",
            "               precision    recall  f1-score   support\n",
            "\n",
            "           0       0.91      0.84      0.87       110\n",
            "           1       0.90      0.95      0.92       164\n",
            "\n",
            "    accuracy                           0.90       274\n",
            "   macro avg       0.90      0.89      0.90       274\n",
            "weighted avg       0.90      0.90      0.90       274\n",
            "\n"
          ]
        }
      ],
      "source": [
        "# Train Random Forest Classifier\n",
        "clf = RandomForestClassifier()\n",
        "clf.fit(X_train, y_train)\n",
        "\n",
        "# Evaluate the Model\n",
        "predictions = clf.predict(X_test)\n",
        "train_predictions = clf.predict(X_train)\n",
        "print(\"Train Accuracy: \", accuracy_score(y_train, train_predictions))\n",
        "print(\"Accuracy: \", accuracy_score(y_test, predictions))\n",
        "\n",
        "print(\"\\nClassification Report:\\n\", classification_report(y_test, predictions))"
      ]
    },
    {
      "cell_type": "markdown",
      "metadata": {
        "id": "FXz5OOG3RJ2x"
      },
      "source": [
        "SVM\n"
      ]
    },
    {
      "cell_type": "code",
      "execution_count": 16,
      "metadata": {
        "colab": {
          "base_uri": "https://localhost:8080/"
        },
        "id": "HFR9Zqs_RJ2x",
        "outputId": "a195263a-fd5d-4198-acf0-334595ab520b"
      },
      "outputs": [
        {
          "output_type": "stream",
          "name": "stdout",
          "text": [
            "SVM Accuracy:  0.9014598540145985\n",
            "Train Accuracy:  0.9095063985374772\n",
            "\n",
            "SVM Classification Report:\n",
            "               precision    recall  f1-score   support\n",
            "\n",
            "           0       0.98      0.77      0.86       110\n",
            "           1       0.87      0.99      0.92       164\n",
            "\n",
            "    accuracy                           0.90       274\n",
            "   macro avg       0.92      0.88      0.89       274\n",
            "weighted avg       0.91      0.90      0.90       274\n",
            "\n"
          ]
        }
      ],
      "source": [
        "# SVM Classifier\n",
        "svm_clf = SVC()\n",
        "svm_clf.fit(X_train, y_train)\n",
        "\n",
        "svm_predictions = svm_clf.predict(X_test)\n",
        "train_predictions = svm_clf.predict(X_train)\n",
        "print(\"SVM Accuracy: \", accuracy_score(y_test, svm_predictions))\n",
        "print(\"Train Accuracy: \", accuracy_score(y_train, train_predictions))\n",
        "print(\"\\nSVM Classification Report:\\n\", classification_report(y_test, svm_predictions))"
      ]
    },
    {
      "cell_type": "markdown",
      "metadata": {
        "id": "gtpHxZZoRJ2y"
      },
      "source": [
        "Logistic Regression\n"
      ]
    },
    {
      "cell_type": "code",
      "execution_count": 17,
      "metadata": {
        "colab": {
          "base_uri": "https://localhost:8080/"
        },
        "id": "0Yvtp5pwRJ2y",
        "outputId": "cddccab2-8066-4783-ebd6-ee49f37daf4d"
      },
      "outputs": [
        {
          "output_type": "stream",
          "name": "stdout",
          "text": [
            "Train Accuracy:  0.8857404021937842\n",
            "Logistic Regression Accuracy:  0.9014598540145985\n",
            "\n",
            "Logistic Regression Classification Report:\n",
            "               precision    recall  f1-score   support\n",
            "\n",
            "           0       0.97      0.78      0.86       110\n",
            "           1       0.87      0.98      0.92       164\n",
            "\n",
            "    accuracy                           0.90       274\n",
            "   macro avg       0.92      0.88      0.89       274\n",
            "weighted avg       0.91      0.90      0.90       274\n",
            "\n"
          ]
        }
      ],
      "source": [
        "# Logistic Regression Classifier\n",
        "logistic_clf = LogisticRegression()\n",
        "logistic_clf.fit(X_train, y_train)\n",
        "\n",
        "logistic_predictions = logistic_clf.predict(X_test)\n",
        "train_predictions = logistic_clf.predict(X_train)\n",
        "print(\"Train Accuracy: \", accuracy_score(y_train, train_predictions))\n",
        "print(\"Logistic Regression Accuracy: \", accuracy_score(y_test, logistic_predictions))\n",
        "print(\"\\nLogistic Regression Classification Report:\\n\", classification_report(y_test, logistic_predictions))\n"
      ]
    },
    {
      "cell_type": "code",
      "execution_count": 18,
      "metadata": {
        "colab": {
          "base_uri": "https://localhost:8080/"
        },
        "id": "uuV7zPZ8RJ2z",
        "outputId": "b0cf8c8e-3c49-41bd-ceab-8fcd97d86940"
      },
      "outputs": [
        {
          "output_type": "stream",
          "name": "stdout",
          "text": [
            "Train Accuracy:  1.0\n",
            "Decision Tree Accuracy:  0.7992700729927007\n",
            "\n",
            "Classification Report:\n",
            "               precision    recall  f1-score   support\n",
            "\n",
            "           0       0.76      0.73      0.74       110\n",
            "           1       0.82      0.85      0.83       164\n",
            "\n",
            "    accuracy                           0.80       274\n",
            "   macro avg       0.79      0.79      0.79       274\n",
            "weighted avg       0.80      0.80      0.80       274\n",
            "\n"
          ]
        }
      ],
      "source": [
        "# Train Decision Tree Classifier\n",
        "dt = DecisionTreeClassifier()\n",
        "dt.fit(X_train, y_train)\n",
        "\n",
        "dt_predictions = dt.predict(X_test)\n",
        "train_predictions = dt.predict(X_train)\n",
        "print(\"Train Accuracy: \", accuracy_score(y_train, train_predictions))\n",
        "print(\"Decision Tree Accuracy: \", accuracy_score(y_test, dt_predictions))\n",
        "print(\"\\nClassification Report:\\n\", classification_report(y_test, dt_predictions))\n"
      ]
    },
    {
      "cell_type": "markdown",
      "metadata": {
        "id": "UMlWxWUqRJ2z"
      },
      "source": [
        "CNN\n"
      ]
    },
    {
      "cell_type": "code",
      "execution_count": 19,
      "metadata": {
        "colab": {
          "base_uri": "https://localhost:8080/"
        },
        "id": "lNFg2tXGRJ20",
        "outputId": "0cb0774f-d817-45ac-91d8-32afb9d0f4b9"
      },
      "outputs": [
        {
          "output_type": "stream",
          "name": "stdout",
          "text": [
            "Epoch 1/5\n",
            "35/35 [==============================] - 4s 60ms/step - loss: 0.6765 - accuracy: 0.5878 - val_loss: 0.6717 - val_accuracy: 0.5985\n",
            "Epoch 2/5\n",
            "35/35 [==============================] - 1s 39ms/step - loss: 0.6731 - accuracy: 0.5951 - val_loss: 0.6575 - val_accuracy: 0.5985\n",
            "Epoch 3/5\n",
            "35/35 [==============================] - 1s 39ms/step - loss: 0.6390 - accuracy: 0.6097 - val_loss: 0.6047 - val_accuracy: 0.5985\n",
            "Epoch 4/5\n",
            "35/35 [==============================] - 1s 38ms/step - loss: 0.5692 - accuracy: 0.7495 - val_loss: 0.4948 - val_accuracy: 0.8540\n",
            "Epoch 5/5\n",
            "35/35 [==============================] - 1s 39ms/step - loss: 0.4684 - accuracy: 0.8282 - val_loss: 0.4128 - val_accuracy: 0.8504\n",
            "9/9 [==============================] - 0s 10ms/step\n",
            "35/35 [==============================] - 0s 10ms/step\n",
            "Train Accuracy:  0.8446069469835467\n",
            "CNN Accuracy:  0.8503649635036497\n",
            "\n",
            "CNN Classification Report:\n",
            "               precision    recall  f1-score   support\n",
            "\n",
            "           0       0.88      0.73      0.80       110\n",
            "           1       0.84      0.93      0.88       164\n",
            "\n",
            "    accuracy                           0.85       274\n",
            "   macro avg       0.86      0.83      0.84       274\n",
            "weighted avg       0.85      0.85      0.85       274\n",
            "\n"
          ]
        }
      ],
      "source": [
        "# Reshape data for CNN\n",
        "X_train_cnn = np.array(X_train).reshape(len(X_train), 300, 1)\n",
        "X_test_cnn = np.array(X_test).reshape(len(X_test), 300, 1)\n",
        "\n",
        "# Build the CNN model\n",
        "cnn_model = Sequential()\n",
        "cnn_model.add(Conv1D(128, 5, activation='relu', input_shape=(300, 1)))\n",
        "cnn_model.add(MaxPooling1D(5))\n",
        "cnn_model.add(Conv1D(128, 5, activation='relu'))\n",
        "cnn_model.add(GlobalMaxPooling1D())\n",
        "cnn_model.add(Dense(128, activation='relu'))\n",
        "cnn_model.add(Dropout(0.5))\n",
        "cnn_model.add(Dense(1, activation='sigmoid')) # Assuming binary classification\n",
        "\n",
        "cnn_model.compile(loss='binary_crossentropy', optimizer='adam', metrics=['accuracy'])\n",
        "cnn_model.fit(X_train_cnn, y_train, validation_data=(X_test_cnn, y_test), epochs=5, batch_size=32)\n",
        "\n",
        "# Evaluate the CNN model\n",
        "cnn_predictions = (cnn_model.predict(X_test_cnn) > 0.5).astype(\"int32\").flatten()\n",
        "train_predictions = (cnn_model.predict(X_train_cnn) > 0.5).astype(\"int32\").flatten()\n",
        "print(\"Train Accuracy: \", accuracy_score(y_train, train_predictions))\n",
        "print(\"CNN Accuracy: \", accuracy_score(y_test, cnn_predictions))\n",
        "print(\"\\nCNN Classification Report:\\n\", classification_report(y_test, cnn_predictions))"
      ]
    },
    {
      "cell_type": "markdown",
      "metadata": {
        "id": "6PHUH-SsRJ20"
      },
      "source": [
        "Cross validation: 1st time"
      ]
    },
    {
      "cell_type": "code",
      "execution_count": 20,
      "metadata": {
        "colab": {
          "base_uri": "https://localhost:8080/"
        },
        "id": "qbxMfrNqRJ21",
        "outputId": "7e6f6269-ace3-44c2-cb6c-295955d5e5d5"
      },
      "outputs": [
        {
          "output_type": "stream",
          "name": "stdout",
          "text": [
            "Decision Tree Cross-Validation Accuracy: 0.80 (+/- 0.06)\n",
            "\n",
            "Random Forest Cross-Validation Accuracy: 0.92 (+/- 0.03)\n",
            "\n",
            "SVM Cross-Validation Accuracy: 0.88 (+/- 0.03)\n",
            "\n",
            "Logistic Regression Cross-Validation Accuracy: 0.87 (+/- 0.05)\n",
            "\n",
            "CNN Cross-Validation Accuracy: 0.80 (+/- 0.08)\n"
          ]
        }
      ],
      "source": [
        "def train_and_evaluate_cnn(X_train, y_train, X_val, y_val):\n",
        "    model = clone_model(cnn_model)\n",
        "    model.compile(loss='binary_crossentropy', optimizer='adam', metrics=['accuracy'])\n",
        "    model.fit(X_train, y_train, epochs=5, batch_size=32, verbose=0)\n",
        "    _, accuracy = model.evaluate(X_val, y_val, verbose=0)\n",
        "    return accuracy\n",
        "\n",
        "# Simulate k-fold cross-validation using 5 splits\n",
        "cnn_accuracies = []\n",
        "for _ in range(5):\n",
        "    X_train_cnn, X_val_cnn, y_train_cnn, y_val_cnn = train_test_split(np.array(w2v_data).reshape(len(w2v_data), 300, 1), df['type'], test_size=0.2)\n",
        "    acc = train_and_evaluate_cnn(X_train_cnn, y_train_cnn, X_val_cnn, y_val_cnn)\n",
        "    cnn_accuracies.append(acc)\n",
        "\n",
        "# For Decision Tree\n",
        "dt_scores = cross_val_score(DecisionTreeClassifier(), w2v_data, df['type'], cv=5, scoring=\"accuracy\")\n",
        "print(f\"Decision Tree Cross-Validation Accuracy: {dt_scores.mean():.2f} (+/- {dt_scores.std() * 2:.2f})\\n\")\n",
        "\n",
        "# For Random Forest\n",
        "rf_scores = cross_val_score(RandomForestClassifier(), w2v_data, df['type'], cv=5, scoring=\"accuracy\")\n",
        "\n",
        "print(f\"Random Forest Cross-Validation Accuracy: {rf_scores.mean():.2f} (+/- {rf_scores.std() * 2:.2f})\\n\")\n",
        "\n",
        "# For SVM\n",
        "svm_scores = cross_val_score(SVC(), w2v_data, df['type'], cv=5, scoring=\"accuracy\")\n",
        "\n",
        "print(f\"SVM Cross-Validation Accuracy: {svm_scores.mean():.2f} (+/- {svm_scores.std() * 2:.2f})\\n\")\n",
        "\n",
        "# For Logistic Regression\n",
        "logistic_scores = cross_val_score(LogisticRegression(), w2v_data, df['type'], cv=5, scoring=\"accuracy\")\n",
        "print(f\"Logistic Regression Cross-Validation Accuracy: {logistic_scores.mean():.2f} (+/- {logistic_scores.std() * 2:.2f})\\n\")\n",
        "\n",
        "# For CNN\n",
        "print(f\"CNN Cross-Validation Accuracy: {np.mean(cnn_accuracies):.2f} (+/- {np.std(cnn_accuracies) * 2:.2f})\")"
      ]
    },
    {
      "cell_type": "markdown",
      "metadata": {
        "id": "6Cds1IT4RJ25"
      },
      "source": [
        "Fine-tuning - Random Forest"
      ]
    },
    {
      "cell_type": "code",
      "execution_count": 21,
      "metadata": {
        "colab": {
          "base_uri": "https://localhost:8080/"
        },
        "id": "XHwkckCURJ25",
        "outputId": "5209b907-7378-4cb0-8f0f-d5403939baa6"
      },
      "outputs": [
        {
          "output_type": "stream",
          "name": "stdout",
          "text": [
            "Fitting 5 folds for each of 108 candidates, totalling 540 fits\n",
            "Best Parameters: {'max_depth': None, 'min_samples_leaf': 1, 'min_samples_split': 2, 'n_estimators': 100}\n",
            "Random Forest Accuracy after Grid Search:  0.9124087591240876\n"
          ]
        }
      ],
      "source": [
        "from sklearn.model_selection import GridSearchCV\n",
        "param_grid = {\n",
        "    'n_estimators': [10, 50, 100],\n",
        "    'max_depth': [None, 10, 20, 30],\n",
        "    'min_samples_split': [2, 5, 10],\n",
        "    'min_samples_leaf': [1, 2, 4],\n",
        "}\n",
        "rf = RandomForestClassifier()\n",
        "grid_search = GridSearchCV(estimator=rf, param_grid=param_grid,\n",
        "                           cv=5, n_jobs=-1, verbose=2, scoring='accuracy')\n",
        "grid_search.fit(X_train, y_train)\n",
        "best_params = grid_search.best_params_\n",
        "print(f\"Best Parameters: {best_params}\")\n",
        "\n",
        "best_rf = grid_search.best_estimator_\n",
        "rf_predictions = best_rf.predict(X_test)\n",
        "print(\"Random Forest Accuracy after Grid Search: \", accuracy_score(y_test, rf_predictions))\n"
      ]
    },
    {
      "cell_type": "markdown",
      "metadata": {
        "id": "ca2uS1DCRJ26"
      },
      "source": [
        "Fine-tuning  - SVM"
      ]
    },
    {
      "cell_type": "code",
      "execution_count": 22,
      "metadata": {
        "colab": {
          "base_uri": "https://localhost:8080/"
        },
        "id": "IvUmY3AiRJ26",
        "outputId": "752ee00d-618d-41e8-f0ec-4e48c36f8cad"
      },
      "outputs": [
        {
          "output_type": "stream",
          "name": "stdout",
          "text": [
            "Fitting 5 folds for each of 64 candidates, totalling 320 fits\n",
            "{'C': 100, 'gamma': 1, 'kernel': 'rbf'}\n",
            "SVM after Grid Search: 0.8905109489051095\n"
          ]
        }
      ],
      "source": [
        "# Define a grid of hyperparameters\n",
        "param_grid = {\n",
        "    'C': [0.1, 1, 10, 100],\n",
        "    'gamma': [0.01, 0.1, 1, 10],\n",
        "    'kernel': ['rbf', 'linear', 'poly', 'sigmoid']  # You can also add 'linear', 'poly', 'sigmoid' to test other kernels\n",
        "}\n",
        "\n",
        "# Use grid search with cross-validation\n",
        "grid_search = GridSearchCV(SVC(), param_grid, cv=5, scoring='accuracy', verbose=1, n_jobs=-1)\n",
        "grid_search.fit(X_train, y_train)\n",
        "\n",
        "# Get the best estimator\n",
        "best_svm = grid_search.best_estimator_\n",
        "\n",
        "# Check the best hyperparameters\n",
        "print(grid_search.best_params_)\n",
        "\n",
        "# Predict and check accuracy\n",
        "svm_predictions = best_svm.predict(X_test)\n",
        "svm_accuracy = accuracy_score(y_test, svm_predictions)\n",
        "print(f\"SVM after Grid Search: {svm_accuracy}\")"
      ]
    },
    {
      "cell_type": "markdown",
      "metadata": {
        "id": "0lRQMKibRJ26"
      },
      "source": [
        "Fine-tuning - Logistic\n"
      ]
    },
    {
      "cell_type": "code",
      "execution_count": 23,
      "metadata": {
        "colab": {
          "base_uri": "https://localhost:8080/"
        },
        "id": "oOi3p18_RJ27",
        "outputId": "cd27ba08-b1d9-466d-d1d9-f7288dcc765f"
      },
      "outputs": [
        {
          "output_type": "stream",
          "name": "stdout",
          "text": [
            "Fitting 5 folds for each of 30 candidates, totalling 150 fits\n",
            "{'C': 10, 'penalty': 'l2', 'solver': 'liblinear'}\n",
            "Logistic Regression Accuracy after Grid Search: 0.8905109489051095\n"
          ]
        }
      ],
      "source": [
        "param_grid_logistic = {\n",
        "    'C': [0.001, 0.01, 0.1, 1, 10, 100],\n",
        "    'penalty': ['l2'],\n",
        "    'solver': ['newton-cg','lbfgs', 'liblinear', 'sag', 'saga']\n",
        "}\n",
        "grid_search_logistic = GridSearchCV(LogisticRegression(max_iter=10000), param_grid_logistic, cv=5, scoring='accuracy', verbose=1, n_jobs=-1)\n",
        "grid_search_logistic.fit(X_train, y_train)\n",
        "\n",
        "# Get the best estimator\n",
        "best_logistic = grid_search_logistic.best_estimator_\n",
        "\n",
        "# Check the best hyperparameters\n",
        "print(grid_search_logistic.best_params_)\n",
        "\n",
        "# Predict and check accuracy\n",
        "logistic_predictions = best_logistic.predict(X_test)\n",
        "logistic_accuracy = accuracy_score(y_test, logistic_predictions)\n",
        "print(f\"Logistic Regression Accuracy after Grid Search: {logistic_accuracy}\")\n"
      ]
    },
    {
      "cell_type": "markdown",
      "metadata": {
        "id": "-cxjJ_FhRJ28"
      },
      "source": [
        "Fine - tuning Decision Tree"
      ]
    },
    {
      "cell_type": "code",
      "execution_count": 25,
      "metadata": {
        "colab": {
          "base_uri": "https://localhost:8080/"
        },
        "id": "EvGWvhMkRJ28",
        "outputId": "4c5a3751-05a8-4c91-d9ab-99d1020182c0"
      },
      "outputs": [
        {
          "output_type": "stream",
          "name": "stdout",
          "text": [
            "Fitting 5 folds for each of 36 candidates, totalling 180 fits\n",
            "Best Decision Tree Parameters: {'max_depth': None, 'min_samples_leaf': 4, 'min_samples_split': 10}\n",
            "Decision Tree Accuracy after Grid Search:  0.8357664233576643\n"
          ]
        }
      ],
      "source": [
        "param_grid = {\n",
        "    'max_depth': [None, 10, 20, 30],\n",
        "    'min_samples_split': [2, 5, 10],\n",
        "    'min_samples_leaf': [1, 2, 4],\n",
        "}\n",
        "dt = DecisionTreeClassifier(random_state=42)\n",
        "grid_search = GridSearchCV(estimator=dt, param_grid=param_grid, cv=5, n_jobs=-1, verbose=2, scoring='accuracy')\n",
        "grid_search.fit(X_train, y_train)\n",
        "\n",
        "best_params = grid_search.best_params_\n",
        "print(f\"Best Decision Tree Parameters: {best_params}\")\n",
        "\n",
        "best_dt = grid_search.best_estimator_\n",
        "dt_predictions = best_dt.predict(X_test)\n",
        "print(\"Decision Tree Accuracy after Grid Search: \", accuracy_score(y_test, dt_predictions))"
      ]
    },
    {
      "cell_type": "code",
      "execution_count": 26,
      "metadata": {
        "colab": {
          "base_uri": "https://localhost:8080/"
        },
        "id": "KflTyRsRRJ28",
        "outputId": "d2829bd3-d194-4bce-82b7-e72d7355d255"
      },
      "outputs": [
        {
          "output_type": "stream",
          "name": "stdout",
          "text": [
            "Decision Tree Accuracy:  0.7992700729927007\n",
            "Random Forest Accuracy:  0.9051094890510949\n",
            "Logistic Regression Accuracy:  0.8905109489051095\n",
            "SVM Accuracy:  0.8905109489051095\n",
            "Epoch 1/5\n",
            "35/35 [==============================] - 6s 134ms/step - loss: 0.6790 - accuracy: 0.5941 - val_loss: 0.6709 - val_accuracy: 0.5985\n",
            "Epoch 2/5\n",
            "35/35 [==============================] - 3s 91ms/step - loss: 0.6679 - accuracy: 0.5969 - val_loss: 0.6538 - val_accuracy: 0.5985\n",
            "Epoch 3/5\n",
            "35/35 [==============================] - 2s 52ms/step - loss: 0.6365 - accuracy: 0.6179 - val_loss: 0.5998 - val_accuracy: 0.5985\n",
            "Epoch 4/5\n",
            "35/35 [==============================] - 1s 39ms/step - loss: 0.5607 - accuracy: 0.7532 - val_loss: 0.4872 - val_accuracy: 0.8540\n",
            "Epoch 5/5\n",
            "35/35 [==============================] - 1s 37ms/step - loss: 0.4618 - accuracy: 0.8300 - val_loss: 0.4223 - val_accuracy: 0.8577\n",
            "9/9 [==============================] - 0s 10ms/step\n",
            "CNN Accuracy:  0.8576642335766423\n"
          ]
        }
      ],
      "source": [
        "# Train Decision Tree Classifier - {'max_depth': None, 'min_samples_leaf': 4, 'min_samples_split': 10}\n",
        "dt = DecisionTreeClassifier(max_depth=None, min_samples_leaf=10, min_samples_split=4,random_state=42)\n",
        "dt.fit(X_train, y_train)\n",
        "dt_predictions = dt.predict(X_test)\n",
        "print(\"Decision Tree Accuracy: \", accuracy_score(y_test, dt_predictions))\n",
        "\n",
        "# Random Forest - {'max_depth': None, 'min_samples_leaf': 1, 'min_samples_split': 2, 'n_estimators': 100}\n",
        "clf = RandomForestClassifier(n_estimators=100, max_depth=None, min_samples_leaf=1, min_samples_split=2, random_state=40)\n",
        "clf.fit(X_train, y_train)\n",
        "predictions = clf.predict(X_test)\n",
        "print(\"Random Forest Accuracy: \", accuracy_score(y_test, predictions))\n",
        "\n",
        "# Logistic Regression Classifier -  {'C': 10, 'penalty': 'l2', 'solver': 'liblinear'}\n",
        "logistic_clf = LogisticRegression(solver='liblinear', max_iter=10000, C=10, penalty='l2')\n",
        "logistic_clf.fit(X_train, y_train)\n",
        "logistic_predictions = logistic_clf.predict(X_test)\n",
        "print(\"Logistic Regression Accuracy: \", accuracy_score(y_test, logistic_predictions))\n",
        "\n",
        "# SVM Classifier - {'C': 100, 'gamma': 1, 'kernel': 'rbf'}\n",
        "svm_clf = SVC(kernel='rbf',gamma=1,  probability=True, C=100)\n",
        "svm_clf.fit(X_train, y_train)\n",
        "svm_predictions = svm_clf.predict(X_test)\n",
        "print(\"SVM Accuracy: \", accuracy_score(y_test, svm_predictions))\n",
        "\n",
        "# Reshape data for CNN\n",
        "X_train_cnn = np.array(X_train).reshape(len(X_train), 300, 1)\n",
        "X_test_cnn = np.array(X_test).reshape(len(X_test), 300, 1)\n",
        "\n",
        "# Build the CNN model\n",
        "cnn_model = Sequential()\n",
        "cnn_model.add(Conv1D(128, 5, activation='relu', input_shape=(300, 1)))\n",
        "cnn_model.add(MaxPooling1D(5))\n",
        "cnn_model.add(Conv1D(128, 5, activation='relu'))\n",
        "cnn_model.add(GlobalMaxPooling1D())\n",
        "cnn_model.add(Dense(128, activation='relu'))\n",
        "cnn_model.add(Dropout(0.5))\n",
        "cnn_model.add(Dense(1, activation='sigmoid')) # Assuming binary classification\n",
        "\n",
        "cnn_model.compile(loss='binary_crossentropy', optimizer='adam', metrics=['accuracy'])\n",
        "cnn_model.fit(X_train_cnn, y_train, validation_data=(X_test_cnn, y_test), epochs=5, batch_size=32)\n",
        "\n",
        "# Evaluate the CNN model\n",
        "cnn_predictions = (cnn_model.predict(X_test_cnn) > 0.5).astype(\"int32\").flatten()\n",
        "print(\"CNN Accuracy: \", accuracy_score(y_test, cnn_predictions))"
      ]
    },
    {
      "cell_type": "markdown",
      "metadata": {
        "id": "kDOTrES7RJ28"
      },
      "source": [
        "Main Event - Classification"
      ]
    },
    {
      "cell_type": "code",
      "execution_count": 27,
      "metadata": {
        "colab": {
          "base_uri": "https://localhost:8080/"
        },
        "id": "fdR3ojCSRJ29",
        "outputId": "28dd6668-db08-4048-94c9-bedeb45397d4"
      },
      "outputs": [
        {
          "output_type": "stream",
          "name": "stdout",
          "text": [
            "We collect and use your personal information for as long as reasonably required in order to provide the a Services, which may include:\n",
            "- developing and testing new or updated products and features without your permission;\n",
            "- for internal record keeping and for marketing.\n",
            "-----------\n",
            "When you upload Posted Content, you automatically grant Vervoe an exclusive, royalty-free, perpetual, irrevocable, worldwide licence to use, reproduce, modify, adapt and publish the content in that Posted Content, including a right to sub-licence as necessary for Vervoe to provide and maintain the Technology. You waive any moral rights you may have in the Posted Content.\n",
            "-----------\n",
            "You agree that your Posted Content is not rude, offensive, racist, or inappropriate, and does not contain material that is contrary to any law applicable to you.\n",
            "-----------\n",
            "We are committed to ensuring that the information you provide is secure, and as such we use commercially reasonable endeavors to keep personal information collected through the Site secure. Such endeavours include requesting your username and password to verify your identity before you a grand access to your account.\n",
            "-----------\n",
            "0\n",
            "0\n",
            "1\n",
            "1\n"
          ]
        }
      ],
      "source": [
        "document_content = \"\"\"We collect and use your personal information for as long as reasonably required in order to provide the a Services, which may include:\n",
        "- developing and testing new or updated products and features without your permission;\n",
        "- for internal record keeping and for marketing.\n",
        "\n",
        "When you upload Posted Content, you automatically grant Vervoe an exclusive, royalty-free, perpetual, irrevocable, worldwide licence to use, reproduce, modify, adapt and publish the content in that Posted Content, including a right to sub-licence as necessary for Vervoe to provide and maintain the Technology. You waive any moral rights you may have in the Posted Content.\n",
        "\n",
        "You agree that your Posted Content is not rude, offensive, racist, or inappropriate, and does not contain material that is contrary to any law applicable to you.\n",
        "\n",
        "We are committed to ensuring that the information you provide is secure, and as such we use commercially reasonable endeavors to keep personal information collected through the Site secure. Such endeavours include requesting your username and password to verify your identity before you a grand access to your account.\"\"\"\n",
        "problematic = []\n",
        "\n",
        "\n",
        "def classify_policy(policy_text):\n",
        "    # Preprocess the policy\n",
        "    tokens = preprocess_policy(policy_text)\n",
        "    embedding = get_average_word2vec(tokens, embedding_model)\n",
        "\n",
        "    # Predict using Random Forest\n",
        "    # rf_prediction = clf.predict([embedding])[0]\n",
        "    # return rf_prediction\n",
        "\n",
        "    # Predict using SVM\n",
        "    svm_prediction = svm_clf.predict([embedding])[0]\n",
        "    return svm_prediction\n",
        "\n",
        "    # Predict using Logistic Regression\n",
        "    # logistic_prediction = logistic_clf.predict([embedding])[0]\n",
        "    # return logistic_prediction\n",
        "\n",
        "    # Predict using Decision Tree\n",
        "    # dt_predictions = dt.predict([embedding])[0]\n",
        "    # return dt_predictions\n",
        "\n",
        "    # Reshape for CNN\n",
        "    # cnn_input = np.array(embedding).reshape(1, 300, 1)\n",
        "    # Predict using CNN\n",
        "    # cnn_prediction = (cnn_model.predict(cnn_input) > 0.5).astype(\"int32\").flatten()[0]\n",
        "    # return cnn_prediction\n",
        "\n",
        "problematic = []\n",
        "\n",
        "def split_into_paragraphs(document_content):\n",
        "    # Normalize the line breaks\n",
        "    normalized_content = document_content.replace('\\r\\n', '\\n')\n",
        "    # Split the document by double line breaks\n",
        "    chunks = [p.strip() for p in normalized_content.split('\\n\\n') if p.strip()]\n",
        "\n",
        "    paragraphs = []\n",
        "    current_para = \"\"\n",
        "    for chunk in chunks:\n",
        "        # If the chunk starts with any list indicator, append it to the current paragraph\n",
        "        if chunk.startswith(('•', '+', '-')):\n",
        "            current_para += '\\n' + chunk\n",
        "        else:\n",
        "            # If we have content in the current paragraph, store it and start a new one\n",
        "            if current_para:\n",
        "                paragraphs.append(current_para)\n",
        "                current_para = \"\"\n",
        "            current_para = chunk\n",
        "    # Add any remaining content to the paragraphs list\n",
        "    if current_para:\n",
        "        paragraphs.append(current_para)\n",
        "\n",
        "    return paragraphs\n",
        "\n",
        "paragraphs = split_into_paragraphs(document_content)\n",
        "for i, paragraph in enumerate(paragraphs, 1):\n",
        "    print(paragraph)\n",
        "    print(\"-----------\")\n",
        "\n",
        "for paragraph in paragraphs:\n",
        "    predictions = classify_policy(paragraph)\n",
        "    print(predictions)\n",
        "    if predictions == 0:\n",
        "        problematic.append(paragraph)"
      ]
    },
    {
      "cell_type": "markdown",
      "metadata": {
        "id": "PixyKr4NRJ29"
      },
      "source": [
        "Main Event - Highlight"
      ]
    },
    {
      "cell_type": "code",
      "execution_count": 29,
      "metadata": {
        "colab": {
          "base_uri": "https://localhost:8080/",
          "height": 243
        },
        "id": "egsXOoYoRJ29",
        "outputId": "d6fd9621-aa37-454d-ba54-65fdab47863c"
      },
      "outputs": [
        {
          "output_type": "display_data",
          "data": {
            "text/plain": [
              "<IPython.core.display.HTML object>"
            ],
            "text/html": [
              "<span style=\"background-color: #a83232\">We collect and use your personal information for as long as reasonably required in order to provide the a Services, which may include:<br>- developing and testing new or updated products and features without your permission;<br>- for internal record keeping and for marketing.</span><br><br><span style=\"background-color: #a83232\">When you upload Posted Content, you automatically grant Vervoe an exclusive, royalty-free, perpetual, irrevocable, worldwide licence to use, reproduce, modify, adapt and publish the content in that Posted Content, including a right to sub-licence as necessary for Vervoe to provide and maintain the Technology. You waive any moral rights you may have in the Posted Content.</span><br><br>You agree that your Posted Content is not rude, offensive, racist, or inappropriate, and does not contain material that is contrary to any law applicable to you.<br><br>We are committed to ensuring that the information you provide is secure, and as such we use commercially reasonable endeavors to keep personal information collected through the Site secure. Such endeavours include requesting your username and password to verify your identity before you a grand access to your account."
            ]
          },
          "metadata": {}
        }
      ],
      "source": [
        "from IPython.core.display import display, HTML\n",
        "\n",
        "def highlight_problematic_sentences(term, problematic_phrases):\n",
        "    if len(problematic_phrases) >= 1:\n",
        "        for phrase in problematic_phrases:\n",
        "            highlighted_phrase = f'<span style=\"background-color: #a83232\">{phrase}</span>'\n",
        "            term = term.replace(phrase, highlighted_phrase)\n",
        "        # Replace newline characters with <br> tags for line breaks\n",
        "        term = term.replace('\\n', '<br>')\n",
        "        display(HTML(term))\n",
        "\n",
        "highlight_problematic_sentences(document_content, problematic)"
      ]
    },
    {
      "cell_type": "markdown",
      "metadata": {
        "id": "mzBOzKQnRJ29"
      },
      "source": [
        "Main Event - Summarization"
      ]
    },
    {
      "cell_type": "code",
      "execution_count": 30,
      "metadata": {
        "colab": {
          "base_uri": "https://localhost:8080/",
          "height": 333,
          "referenced_widgets": [
            "68c87560052547a1b6d9b397d1b63d23",
            "aa3e70228eca405c998520017625dd30",
            "57d15c0437ef495c9cc48aa95eee91d2",
            "52287e8f53644cc48f8716e84b75ad7d",
            "0c262355cfab44ffb44a0abceeac093e",
            "24b3ac74fb3d4505a6d367b91ce95316",
            "5a4890a77c2e414da3520df673dbc42d",
            "dcf5752a07e04169b2c7660bb03d89cb",
            "1e491ffd815b48339fa22cae0e68657f",
            "58749ffe33ca49f9b78db78faa6cae64",
            "ce94089bb5824d65ac9e5bdb71e5ce72",
            "ab0a9b0bb205433ab541333e7dbed1e3",
            "d0ab8e22f3f94e0792eb1676f1d26175",
            "897d3e169ef14aeda6374f9230dbef9c",
            "57fd2e99b1fd430495f775f98b842c59",
            "355f3c2a40004bdcaf5eedf39b16fd66",
            "f69ce1c283d64e3685f7cc5595d4c5b6",
            "237e663fc978401f9d595a4c51c2892a",
            "7da36472b6b1414a9cef06649934d354",
            "4b625fbe63494601baf68413a71d9192",
            "2495f19aedaf41bfac897b9bf1edebae",
            "b5345c0893c04d288d66b1bbc24866b9",
            "d4540ee1af9d4bcdb8e1d29a6f7e796c",
            "13ee9804fa4d4cf7bbd6a3d8f1ac4873",
            "fdbf27f0422341f3852ab61b9402a978",
            "98ff6cc657b94bbab3dbd9abf41f4dc6",
            "6d16c3eed56948a99daedbdf11a69e39",
            "0caa76b9ad9d4ac5adce4e71502df551",
            "e990c80f5e19440fae06847bcc6226fc",
            "1cb8ef7720694db68bca2e787fd92258",
            "a3aba17f9647460ba558f6d2197905d9",
            "8bcb5f0c140b455c880c7490ceadecc1",
            "5405920364144c41a6056a17a89dccd9",
            "3a47f1a8eed24046bc906917d28c8246",
            "0805418258d24d42841f61194f9929cc",
            "64a2938662224eb0bfd2e55ef41f649d",
            "57f394404a854b13ac688852ac1a0883",
            "a1b03db3de9d41d19255b925d61039cc",
            "bf83dc27259e47dab0ace421ed4d0aff",
            "d3745964dd0d4f628f2186c869beffe6",
            "5f8c9f20986941dda5fe516f239a2fee",
            "d318b535ae6a405c97097cfdf4d41d1a",
            "87889c5905d145f683a05a0e018a8470",
            "d5795f8f66cd4be59ba94e9607766902",
            "267e33a645a24391bafff0f0f23561c0",
            "9c1f4540be8641068f1e34b811cbaef3",
            "417bf58044ea4568a206ef40c1b433a0",
            "0df67652f3b048679736d3bb0cd547e4",
            "c24daa51796b4fa597deebb2e4ca6446",
            "56486c8a251041bbb97ec448889e0599",
            "88505d8e1fbf47e48e9fec83c4dad315",
            "ae855ed68de541589ffed2bc64595dc4",
            "e56b38019426414481612ddebdbe3804",
            "19bb979caca8461a8021c67e2f6934d1",
            "1dbe4c30ffc649fa9dad01f53e68cef6",
            "7b16c5d5bd7e4668baab3b62a218f176",
            "293ac92e943f4b88bfcd8b9614e05746",
            "f3d9e83c545e44f6a88bbf7504e65b0d",
            "83446e62018d4a7da3207b5d1e6c0550",
            "d121448fd17341f9b47315fbd3f2927a",
            "40b37f6d24254b00b8cfec15d7ada503",
            "4fead4b9b14d4341bb5ab1668ca775f5",
            "7fab8dd60f664fcf960afd22e8ce4fe0",
            "11ca27dcde6247b29f860f05eff8782b",
            "a02cb75a547245f1b32a63b09ac4e3fc",
            "2ae1dd7c3f8348eb9ad3203e2ccbc0bb"
          ]
        },
        "id": "HDvRiuYTRJ2-",
        "outputId": "e921da61-6d29-46ec-eef7-e9d8a14ddb40"
      },
      "outputs": [
        {
          "output_type": "display_data",
          "data": {
            "text/plain": [
              "Downloading (…)lve/main/config.json:   0%|          | 0.00/1.58k [00:00<?, ?B/s]"
            ],
            "application/vnd.jupyter.widget-view+json": {
              "version_major": 2,
              "version_minor": 0,
              "model_id": "68c87560052547a1b6d9b397d1b63d23"
            }
          },
          "metadata": {}
        },
        {
          "output_type": "display_data",
          "data": {
            "text/plain": [
              "Downloading pytorch_model.bin:   0%|          | 0.00/1.63G [00:00<?, ?B/s]"
            ],
            "application/vnd.jupyter.widget-view+json": {
              "version_major": 2,
              "version_minor": 0,
              "model_id": "ab0a9b0bb205433ab541333e7dbed1e3"
            }
          },
          "metadata": {}
        },
        {
          "output_type": "display_data",
          "data": {
            "text/plain": [
              "Downloading (…)neration_config.json:   0%|          | 0.00/363 [00:00<?, ?B/s]"
            ],
            "application/vnd.jupyter.widget-view+json": {
              "version_major": 2,
              "version_minor": 0,
              "model_id": "d4540ee1af9d4bcdb8e1d29a6f7e796c"
            }
          },
          "metadata": {}
        },
        {
          "output_type": "display_data",
          "data": {
            "text/plain": [
              "Downloading (…)olve/main/vocab.json:   0%|          | 0.00/899k [00:00<?, ?B/s]"
            ],
            "application/vnd.jupyter.widget-view+json": {
              "version_major": 2,
              "version_minor": 0,
              "model_id": "3a47f1a8eed24046bc906917d28c8246"
            }
          },
          "metadata": {}
        },
        {
          "output_type": "display_data",
          "data": {
            "text/plain": [
              "Downloading (…)olve/main/merges.txt:   0%|          | 0.00/456k [00:00<?, ?B/s]"
            ],
            "application/vnd.jupyter.widget-view+json": {
              "version_major": 2,
              "version_minor": 0,
              "model_id": "267e33a645a24391bafff0f0f23561c0"
            }
          },
          "metadata": {}
        },
        {
          "output_type": "display_data",
          "data": {
            "text/plain": [
              "Downloading (…)/main/tokenizer.json:   0%|          | 0.00/1.36M [00:00<?, ?B/s]"
            ],
            "application/vnd.jupyter.widget-view+json": {
              "version_major": 2,
              "version_minor": 0,
              "model_id": "7b16c5d5bd7e4668baab3b62a218f176"
            }
          },
          "metadata": {}
        },
        {
          "output_type": "stream",
          "name": "stdout",
          "text": [
            "Summary for Article 1:\n",
            "We collect and use your personal information for as long as reasonably required in order to provide the a Services. Services may include developing and testing new or updated products and features without your permission.\n",
            "\n",
            "Summary for Article 2:\n",
            "When you upload Posted Content, you automatically grant Vervoe an exclusive, royalty-free, perpetual, irrevocable, worldwide licence. You waive any moral rights you may have in the Posted\n",
            "\n"
          ]
        }
      ],
      "source": [
        "bart = pipeline(\"summarization\", model=\"facebook/bart-large-cnn\", min_length=17, max_length=42)\n",
        "articles = problematic\n",
        "summaries = []\n",
        "\n",
        "for article in articles:\n",
        "    result = bart(article)\n",
        "    summaries.append(result)\n",
        "\n",
        "# Print each summary separately\n",
        "for i, summary in enumerate(summaries):\n",
        "    print(f\"Summary for Article {i + 1}:\")\n",
        "    print(summary[0]['summary_text'])\n",
        "    print()"
      ]
    },
    {
      "cell_type": "code",
      "execution_count": 31,
      "metadata": {
        "colab": {
          "base_uri": "https://localhost:8080/"
        },
        "id": "f_HwEACmRJ2-",
        "outputId": "9b2904a8-c657-40cb-c306-2735073a5b9d"
      },
      "outputs": [
        {
          "output_type": "execute_result",
          "data": {
            "text/plain": [
              "['svm_model.pkl']"
            ]
          },
          "metadata": {},
          "execution_count": 31
        }
      ],
      "source": [
        "# Save the model\n",
        "from joblib import dump\n",
        "dump(svm_clf, 'svm_model.pkl')"
      ]
    }
  ],
  "metadata": {
    "kernelspec": {
      "display_name": "Python 3",
      "language": "python",
      "name": "python3"
    },
    "language_info": {
      "codemirror_mode": {
        "name": "ipython",
        "version": 3
      },
      "file_extension": ".py",
      "mimetype": "text/x-python",
      "name": "python",
      "nbconvert_exporter": "python",
      "pygments_lexer": "ipython3",
      "version": "3.11.4"
    },
    "orig_nbformat": 4,
    "colab": {
      "provenance": [],
      "include_colab_link": true
    },
    "widgets": {
      "application/vnd.jupyter.widget-state+json": {
        "68c87560052547a1b6d9b397d1b63d23": {
          "model_module": "@jupyter-widgets/controls",
          "model_name": "HBoxModel",
          "model_module_version": "1.5.0",
          "state": {
            "_dom_classes": [],
            "_model_module": "@jupyter-widgets/controls",
            "_model_module_version": "1.5.0",
            "_model_name": "HBoxModel",
            "_view_count": null,
            "_view_module": "@jupyter-widgets/controls",
            "_view_module_version": "1.5.0",
            "_view_name": "HBoxView",
            "box_style": "",
            "children": [
              "IPY_MODEL_aa3e70228eca405c998520017625dd30",
              "IPY_MODEL_57d15c0437ef495c9cc48aa95eee91d2",
              "IPY_MODEL_52287e8f53644cc48f8716e84b75ad7d"
            ],
            "layout": "IPY_MODEL_0c262355cfab44ffb44a0abceeac093e"
          }
        },
        "aa3e70228eca405c998520017625dd30": {
          "model_module": "@jupyter-widgets/controls",
          "model_name": "HTMLModel",
          "model_module_version": "1.5.0",
          "state": {
            "_dom_classes": [],
            "_model_module": "@jupyter-widgets/controls",
            "_model_module_version": "1.5.0",
            "_model_name": "HTMLModel",
            "_view_count": null,
            "_view_module": "@jupyter-widgets/controls",
            "_view_module_version": "1.5.0",
            "_view_name": "HTMLView",
            "description": "",
            "description_tooltip": null,
            "layout": "IPY_MODEL_24b3ac74fb3d4505a6d367b91ce95316",
            "placeholder": "​",
            "style": "IPY_MODEL_5a4890a77c2e414da3520df673dbc42d",
            "value": "Downloading (…)lve/main/config.json: 100%"
          }
        },
        "57d15c0437ef495c9cc48aa95eee91d2": {
          "model_module": "@jupyter-widgets/controls",
          "model_name": "FloatProgressModel",
          "model_module_version": "1.5.0",
          "state": {
            "_dom_classes": [],
            "_model_module": "@jupyter-widgets/controls",
            "_model_module_version": "1.5.0",
            "_model_name": "FloatProgressModel",
            "_view_count": null,
            "_view_module": "@jupyter-widgets/controls",
            "_view_module_version": "1.5.0",
            "_view_name": "ProgressView",
            "bar_style": "success",
            "description": "",
            "description_tooltip": null,
            "layout": "IPY_MODEL_dcf5752a07e04169b2c7660bb03d89cb",
            "max": 1585,
            "min": 0,
            "orientation": "horizontal",
            "style": "IPY_MODEL_1e491ffd815b48339fa22cae0e68657f",
            "value": 1585
          }
        },
        "52287e8f53644cc48f8716e84b75ad7d": {
          "model_module": "@jupyter-widgets/controls",
          "model_name": "HTMLModel",
          "model_module_version": "1.5.0",
          "state": {
            "_dom_classes": [],
            "_model_module": "@jupyter-widgets/controls",
            "_model_module_version": "1.5.0",
            "_model_name": "HTMLModel",
            "_view_count": null,
            "_view_module": "@jupyter-widgets/controls",
            "_view_module_version": "1.5.0",
            "_view_name": "HTMLView",
            "description": "",
            "description_tooltip": null,
            "layout": "IPY_MODEL_58749ffe33ca49f9b78db78faa6cae64",
            "placeholder": "​",
            "style": "IPY_MODEL_ce94089bb5824d65ac9e5bdb71e5ce72",
            "value": " 1.58k/1.58k [00:00&lt;00:00, 22.8kB/s]"
          }
        },
        "0c262355cfab44ffb44a0abceeac093e": {
          "model_module": "@jupyter-widgets/base",
          "model_name": "LayoutModel",
          "model_module_version": "1.2.0",
          "state": {
            "_model_module": "@jupyter-widgets/base",
            "_model_module_version": "1.2.0",
            "_model_name": "LayoutModel",
            "_view_count": null,
            "_view_module": "@jupyter-widgets/base",
            "_view_module_version": "1.2.0",
            "_view_name": "LayoutView",
            "align_content": null,
            "align_items": null,
            "align_self": null,
            "border": null,
            "bottom": null,
            "display": null,
            "flex": null,
            "flex_flow": null,
            "grid_area": null,
            "grid_auto_columns": null,
            "grid_auto_flow": null,
            "grid_auto_rows": null,
            "grid_column": null,
            "grid_gap": null,
            "grid_row": null,
            "grid_template_areas": null,
            "grid_template_columns": null,
            "grid_template_rows": null,
            "height": null,
            "justify_content": null,
            "justify_items": null,
            "left": null,
            "margin": null,
            "max_height": null,
            "max_width": null,
            "min_height": null,
            "min_width": null,
            "object_fit": null,
            "object_position": null,
            "order": null,
            "overflow": null,
            "overflow_x": null,
            "overflow_y": null,
            "padding": null,
            "right": null,
            "top": null,
            "visibility": null,
            "width": null
          }
        },
        "24b3ac74fb3d4505a6d367b91ce95316": {
          "model_module": "@jupyter-widgets/base",
          "model_name": "LayoutModel",
          "model_module_version": "1.2.0",
          "state": {
            "_model_module": "@jupyter-widgets/base",
            "_model_module_version": "1.2.0",
            "_model_name": "LayoutModel",
            "_view_count": null,
            "_view_module": "@jupyter-widgets/base",
            "_view_module_version": "1.2.0",
            "_view_name": "LayoutView",
            "align_content": null,
            "align_items": null,
            "align_self": null,
            "border": null,
            "bottom": null,
            "display": null,
            "flex": null,
            "flex_flow": null,
            "grid_area": null,
            "grid_auto_columns": null,
            "grid_auto_flow": null,
            "grid_auto_rows": null,
            "grid_column": null,
            "grid_gap": null,
            "grid_row": null,
            "grid_template_areas": null,
            "grid_template_columns": null,
            "grid_template_rows": null,
            "height": null,
            "justify_content": null,
            "justify_items": null,
            "left": null,
            "margin": null,
            "max_height": null,
            "max_width": null,
            "min_height": null,
            "min_width": null,
            "object_fit": null,
            "object_position": null,
            "order": null,
            "overflow": null,
            "overflow_x": null,
            "overflow_y": null,
            "padding": null,
            "right": null,
            "top": null,
            "visibility": null,
            "width": null
          }
        },
        "5a4890a77c2e414da3520df673dbc42d": {
          "model_module": "@jupyter-widgets/controls",
          "model_name": "DescriptionStyleModel",
          "model_module_version": "1.5.0",
          "state": {
            "_model_module": "@jupyter-widgets/controls",
            "_model_module_version": "1.5.0",
            "_model_name": "DescriptionStyleModel",
            "_view_count": null,
            "_view_module": "@jupyter-widgets/base",
            "_view_module_version": "1.2.0",
            "_view_name": "StyleView",
            "description_width": ""
          }
        },
        "dcf5752a07e04169b2c7660bb03d89cb": {
          "model_module": "@jupyter-widgets/base",
          "model_name": "LayoutModel",
          "model_module_version": "1.2.0",
          "state": {
            "_model_module": "@jupyter-widgets/base",
            "_model_module_version": "1.2.0",
            "_model_name": "LayoutModel",
            "_view_count": null,
            "_view_module": "@jupyter-widgets/base",
            "_view_module_version": "1.2.0",
            "_view_name": "LayoutView",
            "align_content": null,
            "align_items": null,
            "align_self": null,
            "border": null,
            "bottom": null,
            "display": null,
            "flex": null,
            "flex_flow": null,
            "grid_area": null,
            "grid_auto_columns": null,
            "grid_auto_flow": null,
            "grid_auto_rows": null,
            "grid_column": null,
            "grid_gap": null,
            "grid_row": null,
            "grid_template_areas": null,
            "grid_template_columns": null,
            "grid_template_rows": null,
            "height": null,
            "justify_content": null,
            "justify_items": null,
            "left": null,
            "margin": null,
            "max_height": null,
            "max_width": null,
            "min_height": null,
            "min_width": null,
            "object_fit": null,
            "object_position": null,
            "order": null,
            "overflow": null,
            "overflow_x": null,
            "overflow_y": null,
            "padding": null,
            "right": null,
            "top": null,
            "visibility": null,
            "width": null
          }
        },
        "1e491ffd815b48339fa22cae0e68657f": {
          "model_module": "@jupyter-widgets/controls",
          "model_name": "ProgressStyleModel",
          "model_module_version": "1.5.0",
          "state": {
            "_model_module": "@jupyter-widgets/controls",
            "_model_module_version": "1.5.0",
            "_model_name": "ProgressStyleModel",
            "_view_count": null,
            "_view_module": "@jupyter-widgets/base",
            "_view_module_version": "1.2.0",
            "_view_name": "StyleView",
            "bar_color": null,
            "description_width": ""
          }
        },
        "58749ffe33ca49f9b78db78faa6cae64": {
          "model_module": "@jupyter-widgets/base",
          "model_name": "LayoutModel",
          "model_module_version": "1.2.0",
          "state": {
            "_model_module": "@jupyter-widgets/base",
            "_model_module_version": "1.2.0",
            "_model_name": "LayoutModel",
            "_view_count": null,
            "_view_module": "@jupyter-widgets/base",
            "_view_module_version": "1.2.0",
            "_view_name": "LayoutView",
            "align_content": null,
            "align_items": null,
            "align_self": null,
            "border": null,
            "bottom": null,
            "display": null,
            "flex": null,
            "flex_flow": null,
            "grid_area": null,
            "grid_auto_columns": null,
            "grid_auto_flow": null,
            "grid_auto_rows": null,
            "grid_column": null,
            "grid_gap": null,
            "grid_row": null,
            "grid_template_areas": null,
            "grid_template_columns": null,
            "grid_template_rows": null,
            "height": null,
            "justify_content": null,
            "justify_items": null,
            "left": null,
            "margin": null,
            "max_height": null,
            "max_width": null,
            "min_height": null,
            "min_width": null,
            "object_fit": null,
            "object_position": null,
            "order": null,
            "overflow": null,
            "overflow_x": null,
            "overflow_y": null,
            "padding": null,
            "right": null,
            "top": null,
            "visibility": null,
            "width": null
          }
        },
        "ce94089bb5824d65ac9e5bdb71e5ce72": {
          "model_module": "@jupyter-widgets/controls",
          "model_name": "DescriptionStyleModel",
          "model_module_version": "1.5.0",
          "state": {
            "_model_module": "@jupyter-widgets/controls",
            "_model_module_version": "1.5.0",
            "_model_name": "DescriptionStyleModel",
            "_view_count": null,
            "_view_module": "@jupyter-widgets/base",
            "_view_module_version": "1.2.0",
            "_view_name": "StyleView",
            "description_width": ""
          }
        },
        "ab0a9b0bb205433ab541333e7dbed1e3": {
          "model_module": "@jupyter-widgets/controls",
          "model_name": "HBoxModel",
          "model_module_version": "1.5.0",
          "state": {
            "_dom_classes": [],
            "_model_module": "@jupyter-widgets/controls",
            "_model_module_version": "1.5.0",
            "_model_name": "HBoxModel",
            "_view_count": null,
            "_view_module": "@jupyter-widgets/controls",
            "_view_module_version": "1.5.0",
            "_view_name": "HBoxView",
            "box_style": "",
            "children": [
              "IPY_MODEL_d0ab8e22f3f94e0792eb1676f1d26175",
              "IPY_MODEL_897d3e169ef14aeda6374f9230dbef9c",
              "IPY_MODEL_57fd2e99b1fd430495f775f98b842c59"
            ],
            "layout": "IPY_MODEL_355f3c2a40004bdcaf5eedf39b16fd66"
          }
        },
        "d0ab8e22f3f94e0792eb1676f1d26175": {
          "model_module": "@jupyter-widgets/controls",
          "model_name": "HTMLModel",
          "model_module_version": "1.5.0",
          "state": {
            "_dom_classes": [],
            "_model_module": "@jupyter-widgets/controls",
            "_model_module_version": "1.5.0",
            "_model_name": "HTMLModel",
            "_view_count": null,
            "_view_module": "@jupyter-widgets/controls",
            "_view_module_version": "1.5.0",
            "_view_name": "HTMLView",
            "description": "",
            "description_tooltip": null,
            "layout": "IPY_MODEL_f69ce1c283d64e3685f7cc5595d4c5b6",
            "placeholder": "​",
            "style": "IPY_MODEL_237e663fc978401f9d595a4c51c2892a",
            "value": "Downloading pytorch_model.bin: 100%"
          }
        },
        "897d3e169ef14aeda6374f9230dbef9c": {
          "model_module": "@jupyter-widgets/controls",
          "model_name": "FloatProgressModel",
          "model_module_version": "1.5.0",
          "state": {
            "_dom_classes": [],
            "_model_module": "@jupyter-widgets/controls",
            "_model_module_version": "1.5.0",
            "_model_name": "FloatProgressModel",
            "_view_count": null,
            "_view_module": "@jupyter-widgets/controls",
            "_view_module_version": "1.5.0",
            "_view_name": "ProgressView",
            "bar_style": "success",
            "description": "",
            "description_tooltip": null,
            "layout": "IPY_MODEL_7da36472b6b1414a9cef06649934d354",
            "max": 1625270765,
            "min": 0,
            "orientation": "horizontal",
            "style": "IPY_MODEL_4b625fbe63494601baf68413a71d9192",
            "value": 1625270765
          }
        },
        "57fd2e99b1fd430495f775f98b842c59": {
          "model_module": "@jupyter-widgets/controls",
          "model_name": "HTMLModel",
          "model_module_version": "1.5.0",
          "state": {
            "_dom_classes": [],
            "_model_module": "@jupyter-widgets/controls",
            "_model_module_version": "1.5.0",
            "_model_name": "HTMLModel",
            "_view_count": null,
            "_view_module": "@jupyter-widgets/controls",
            "_view_module_version": "1.5.0",
            "_view_name": "HTMLView",
            "description": "",
            "description_tooltip": null,
            "layout": "IPY_MODEL_2495f19aedaf41bfac897b9bf1edebae",
            "placeholder": "​",
            "style": "IPY_MODEL_b5345c0893c04d288d66b1bbc24866b9",
            "value": " 1.63G/1.63G [00:28&lt;00:00, 112MB/s]"
          }
        },
        "355f3c2a40004bdcaf5eedf39b16fd66": {
          "model_module": "@jupyter-widgets/base",
          "model_name": "LayoutModel",
          "model_module_version": "1.2.0",
          "state": {
            "_model_module": "@jupyter-widgets/base",
            "_model_module_version": "1.2.0",
            "_model_name": "LayoutModel",
            "_view_count": null,
            "_view_module": "@jupyter-widgets/base",
            "_view_module_version": "1.2.0",
            "_view_name": "LayoutView",
            "align_content": null,
            "align_items": null,
            "align_self": null,
            "border": null,
            "bottom": null,
            "display": null,
            "flex": null,
            "flex_flow": null,
            "grid_area": null,
            "grid_auto_columns": null,
            "grid_auto_flow": null,
            "grid_auto_rows": null,
            "grid_column": null,
            "grid_gap": null,
            "grid_row": null,
            "grid_template_areas": null,
            "grid_template_columns": null,
            "grid_template_rows": null,
            "height": null,
            "justify_content": null,
            "justify_items": null,
            "left": null,
            "margin": null,
            "max_height": null,
            "max_width": null,
            "min_height": null,
            "min_width": null,
            "object_fit": null,
            "object_position": null,
            "order": null,
            "overflow": null,
            "overflow_x": null,
            "overflow_y": null,
            "padding": null,
            "right": null,
            "top": null,
            "visibility": null,
            "width": null
          }
        },
        "f69ce1c283d64e3685f7cc5595d4c5b6": {
          "model_module": "@jupyter-widgets/base",
          "model_name": "LayoutModel",
          "model_module_version": "1.2.0",
          "state": {
            "_model_module": "@jupyter-widgets/base",
            "_model_module_version": "1.2.0",
            "_model_name": "LayoutModel",
            "_view_count": null,
            "_view_module": "@jupyter-widgets/base",
            "_view_module_version": "1.2.0",
            "_view_name": "LayoutView",
            "align_content": null,
            "align_items": null,
            "align_self": null,
            "border": null,
            "bottom": null,
            "display": null,
            "flex": null,
            "flex_flow": null,
            "grid_area": null,
            "grid_auto_columns": null,
            "grid_auto_flow": null,
            "grid_auto_rows": null,
            "grid_column": null,
            "grid_gap": null,
            "grid_row": null,
            "grid_template_areas": null,
            "grid_template_columns": null,
            "grid_template_rows": null,
            "height": null,
            "justify_content": null,
            "justify_items": null,
            "left": null,
            "margin": null,
            "max_height": null,
            "max_width": null,
            "min_height": null,
            "min_width": null,
            "object_fit": null,
            "object_position": null,
            "order": null,
            "overflow": null,
            "overflow_x": null,
            "overflow_y": null,
            "padding": null,
            "right": null,
            "top": null,
            "visibility": null,
            "width": null
          }
        },
        "237e663fc978401f9d595a4c51c2892a": {
          "model_module": "@jupyter-widgets/controls",
          "model_name": "DescriptionStyleModel",
          "model_module_version": "1.5.0",
          "state": {
            "_model_module": "@jupyter-widgets/controls",
            "_model_module_version": "1.5.0",
            "_model_name": "DescriptionStyleModel",
            "_view_count": null,
            "_view_module": "@jupyter-widgets/base",
            "_view_module_version": "1.2.0",
            "_view_name": "StyleView",
            "description_width": ""
          }
        },
        "7da36472b6b1414a9cef06649934d354": {
          "model_module": "@jupyter-widgets/base",
          "model_name": "LayoutModel",
          "model_module_version": "1.2.0",
          "state": {
            "_model_module": "@jupyter-widgets/base",
            "_model_module_version": "1.2.0",
            "_model_name": "LayoutModel",
            "_view_count": null,
            "_view_module": "@jupyter-widgets/base",
            "_view_module_version": "1.2.0",
            "_view_name": "LayoutView",
            "align_content": null,
            "align_items": null,
            "align_self": null,
            "border": null,
            "bottom": null,
            "display": null,
            "flex": null,
            "flex_flow": null,
            "grid_area": null,
            "grid_auto_columns": null,
            "grid_auto_flow": null,
            "grid_auto_rows": null,
            "grid_column": null,
            "grid_gap": null,
            "grid_row": null,
            "grid_template_areas": null,
            "grid_template_columns": null,
            "grid_template_rows": null,
            "height": null,
            "justify_content": null,
            "justify_items": null,
            "left": null,
            "margin": null,
            "max_height": null,
            "max_width": null,
            "min_height": null,
            "min_width": null,
            "object_fit": null,
            "object_position": null,
            "order": null,
            "overflow": null,
            "overflow_x": null,
            "overflow_y": null,
            "padding": null,
            "right": null,
            "top": null,
            "visibility": null,
            "width": null
          }
        },
        "4b625fbe63494601baf68413a71d9192": {
          "model_module": "@jupyter-widgets/controls",
          "model_name": "ProgressStyleModel",
          "model_module_version": "1.5.0",
          "state": {
            "_model_module": "@jupyter-widgets/controls",
            "_model_module_version": "1.5.0",
            "_model_name": "ProgressStyleModel",
            "_view_count": null,
            "_view_module": "@jupyter-widgets/base",
            "_view_module_version": "1.2.0",
            "_view_name": "StyleView",
            "bar_color": null,
            "description_width": ""
          }
        },
        "2495f19aedaf41bfac897b9bf1edebae": {
          "model_module": "@jupyter-widgets/base",
          "model_name": "LayoutModel",
          "model_module_version": "1.2.0",
          "state": {
            "_model_module": "@jupyter-widgets/base",
            "_model_module_version": "1.2.0",
            "_model_name": "LayoutModel",
            "_view_count": null,
            "_view_module": "@jupyter-widgets/base",
            "_view_module_version": "1.2.0",
            "_view_name": "LayoutView",
            "align_content": null,
            "align_items": null,
            "align_self": null,
            "border": null,
            "bottom": null,
            "display": null,
            "flex": null,
            "flex_flow": null,
            "grid_area": null,
            "grid_auto_columns": null,
            "grid_auto_flow": null,
            "grid_auto_rows": null,
            "grid_column": null,
            "grid_gap": null,
            "grid_row": null,
            "grid_template_areas": null,
            "grid_template_columns": null,
            "grid_template_rows": null,
            "height": null,
            "justify_content": null,
            "justify_items": null,
            "left": null,
            "margin": null,
            "max_height": null,
            "max_width": null,
            "min_height": null,
            "min_width": null,
            "object_fit": null,
            "object_position": null,
            "order": null,
            "overflow": null,
            "overflow_x": null,
            "overflow_y": null,
            "padding": null,
            "right": null,
            "top": null,
            "visibility": null,
            "width": null
          }
        },
        "b5345c0893c04d288d66b1bbc24866b9": {
          "model_module": "@jupyter-widgets/controls",
          "model_name": "DescriptionStyleModel",
          "model_module_version": "1.5.0",
          "state": {
            "_model_module": "@jupyter-widgets/controls",
            "_model_module_version": "1.5.0",
            "_model_name": "DescriptionStyleModel",
            "_view_count": null,
            "_view_module": "@jupyter-widgets/base",
            "_view_module_version": "1.2.0",
            "_view_name": "StyleView",
            "description_width": ""
          }
        },
        "d4540ee1af9d4bcdb8e1d29a6f7e796c": {
          "model_module": "@jupyter-widgets/controls",
          "model_name": "HBoxModel",
          "model_module_version": "1.5.0",
          "state": {
            "_dom_classes": [],
            "_model_module": "@jupyter-widgets/controls",
            "_model_module_version": "1.5.0",
            "_model_name": "HBoxModel",
            "_view_count": null,
            "_view_module": "@jupyter-widgets/controls",
            "_view_module_version": "1.5.0",
            "_view_name": "HBoxView",
            "box_style": "",
            "children": [
              "IPY_MODEL_13ee9804fa4d4cf7bbd6a3d8f1ac4873",
              "IPY_MODEL_fdbf27f0422341f3852ab61b9402a978",
              "IPY_MODEL_98ff6cc657b94bbab3dbd9abf41f4dc6"
            ],
            "layout": "IPY_MODEL_6d16c3eed56948a99daedbdf11a69e39"
          }
        },
        "13ee9804fa4d4cf7bbd6a3d8f1ac4873": {
          "model_module": "@jupyter-widgets/controls",
          "model_name": "HTMLModel",
          "model_module_version": "1.5.0",
          "state": {
            "_dom_classes": [],
            "_model_module": "@jupyter-widgets/controls",
            "_model_module_version": "1.5.0",
            "_model_name": "HTMLModel",
            "_view_count": null,
            "_view_module": "@jupyter-widgets/controls",
            "_view_module_version": "1.5.0",
            "_view_name": "HTMLView",
            "description": "",
            "description_tooltip": null,
            "layout": "IPY_MODEL_0caa76b9ad9d4ac5adce4e71502df551",
            "placeholder": "​",
            "style": "IPY_MODEL_e990c80f5e19440fae06847bcc6226fc",
            "value": "Downloading (…)neration_config.json: 100%"
          }
        },
        "fdbf27f0422341f3852ab61b9402a978": {
          "model_module": "@jupyter-widgets/controls",
          "model_name": "FloatProgressModel",
          "model_module_version": "1.5.0",
          "state": {
            "_dom_classes": [],
            "_model_module": "@jupyter-widgets/controls",
            "_model_module_version": "1.5.0",
            "_model_name": "FloatProgressModel",
            "_view_count": null,
            "_view_module": "@jupyter-widgets/controls",
            "_view_module_version": "1.5.0",
            "_view_name": "ProgressView",
            "bar_style": "success",
            "description": "",
            "description_tooltip": null,
            "layout": "IPY_MODEL_1cb8ef7720694db68bca2e787fd92258",
            "max": 363,
            "min": 0,
            "orientation": "horizontal",
            "style": "IPY_MODEL_a3aba17f9647460ba558f6d2197905d9",
            "value": 363
          }
        },
        "98ff6cc657b94bbab3dbd9abf41f4dc6": {
          "model_module": "@jupyter-widgets/controls",
          "model_name": "HTMLModel",
          "model_module_version": "1.5.0",
          "state": {
            "_dom_classes": [],
            "_model_module": "@jupyter-widgets/controls",
            "_model_module_version": "1.5.0",
            "_model_name": "HTMLModel",
            "_view_count": null,
            "_view_module": "@jupyter-widgets/controls",
            "_view_module_version": "1.5.0",
            "_view_name": "HTMLView",
            "description": "",
            "description_tooltip": null,
            "layout": "IPY_MODEL_8bcb5f0c140b455c880c7490ceadecc1",
            "placeholder": "​",
            "style": "IPY_MODEL_5405920364144c41a6056a17a89dccd9",
            "value": " 363/363 [00:00&lt;00:00, 15.6kB/s]"
          }
        },
        "6d16c3eed56948a99daedbdf11a69e39": {
          "model_module": "@jupyter-widgets/base",
          "model_name": "LayoutModel",
          "model_module_version": "1.2.0",
          "state": {
            "_model_module": "@jupyter-widgets/base",
            "_model_module_version": "1.2.0",
            "_model_name": "LayoutModel",
            "_view_count": null,
            "_view_module": "@jupyter-widgets/base",
            "_view_module_version": "1.2.0",
            "_view_name": "LayoutView",
            "align_content": null,
            "align_items": null,
            "align_self": null,
            "border": null,
            "bottom": null,
            "display": null,
            "flex": null,
            "flex_flow": null,
            "grid_area": null,
            "grid_auto_columns": null,
            "grid_auto_flow": null,
            "grid_auto_rows": null,
            "grid_column": null,
            "grid_gap": null,
            "grid_row": null,
            "grid_template_areas": null,
            "grid_template_columns": null,
            "grid_template_rows": null,
            "height": null,
            "justify_content": null,
            "justify_items": null,
            "left": null,
            "margin": null,
            "max_height": null,
            "max_width": null,
            "min_height": null,
            "min_width": null,
            "object_fit": null,
            "object_position": null,
            "order": null,
            "overflow": null,
            "overflow_x": null,
            "overflow_y": null,
            "padding": null,
            "right": null,
            "top": null,
            "visibility": null,
            "width": null
          }
        },
        "0caa76b9ad9d4ac5adce4e71502df551": {
          "model_module": "@jupyter-widgets/base",
          "model_name": "LayoutModel",
          "model_module_version": "1.2.0",
          "state": {
            "_model_module": "@jupyter-widgets/base",
            "_model_module_version": "1.2.0",
            "_model_name": "LayoutModel",
            "_view_count": null,
            "_view_module": "@jupyter-widgets/base",
            "_view_module_version": "1.2.0",
            "_view_name": "LayoutView",
            "align_content": null,
            "align_items": null,
            "align_self": null,
            "border": null,
            "bottom": null,
            "display": null,
            "flex": null,
            "flex_flow": null,
            "grid_area": null,
            "grid_auto_columns": null,
            "grid_auto_flow": null,
            "grid_auto_rows": null,
            "grid_column": null,
            "grid_gap": null,
            "grid_row": null,
            "grid_template_areas": null,
            "grid_template_columns": null,
            "grid_template_rows": null,
            "height": null,
            "justify_content": null,
            "justify_items": null,
            "left": null,
            "margin": null,
            "max_height": null,
            "max_width": null,
            "min_height": null,
            "min_width": null,
            "object_fit": null,
            "object_position": null,
            "order": null,
            "overflow": null,
            "overflow_x": null,
            "overflow_y": null,
            "padding": null,
            "right": null,
            "top": null,
            "visibility": null,
            "width": null
          }
        },
        "e990c80f5e19440fae06847bcc6226fc": {
          "model_module": "@jupyter-widgets/controls",
          "model_name": "DescriptionStyleModel",
          "model_module_version": "1.5.0",
          "state": {
            "_model_module": "@jupyter-widgets/controls",
            "_model_module_version": "1.5.0",
            "_model_name": "DescriptionStyleModel",
            "_view_count": null,
            "_view_module": "@jupyter-widgets/base",
            "_view_module_version": "1.2.0",
            "_view_name": "StyleView",
            "description_width": ""
          }
        },
        "1cb8ef7720694db68bca2e787fd92258": {
          "model_module": "@jupyter-widgets/base",
          "model_name": "LayoutModel",
          "model_module_version": "1.2.0",
          "state": {
            "_model_module": "@jupyter-widgets/base",
            "_model_module_version": "1.2.0",
            "_model_name": "LayoutModel",
            "_view_count": null,
            "_view_module": "@jupyter-widgets/base",
            "_view_module_version": "1.2.0",
            "_view_name": "LayoutView",
            "align_content": null,
            "align_items": null,
            "align_self": null,
            "border": null,
            "bottom": null,
            "display": null,
            "flex": null,
            "flex_flow": null,
            "grid_area": null,
            "grid_auto_columns": null,
            "grid_auto_flow": null,
            "grid_auto_rows": null,
            "grid_column": null,
            "grid_gap": null,
            "grid_row": null,
            "grid_template_areas": null,
            "grid_template_columns": null,
            "grid_template_rows": null,
            "height": null,
            "justify_content": null,
            "justify_items": null,
            "left": null,
            "margin": null,
            "max_height": null,
            "max_width": null,
            "min_height": null,
            "min_width": null,
            "object_fit": null,
            "object_position": null,
            "order": null,
            "overflow": null,
            "overflow_x": null,
            "overflow_y": null,
            "padding": null,
            "right": null,
            "top": null,
            "visibility": null,
            "width": null
          }
        },
        "a3aba17f9647460ba558f6d2197905d9": {
          "model_module": "@jupyter-widgets/controls",
          "model_name": "ProgressStyleModel",
          "model_module_version": "1.5.0",
          "state": {
            "_model_module": "@jupyter-widgets/controls",
            "_model_module_version": "1.5.0",
            "_model_name": "ProgressStyleModel",
            "_view_count": null,
            "_view_module": "@jupyter-widgets/base",
            "_view_module_version": "1.2.0",
            "_view_name": "StyleView",
            "bar_color": null,
            "description_width": ""
          }
        },
        "8bcb5f0c140b455c880c7490ceadecc1": {
          "model_module": "@jupyter-widgets/base",
          "model_name": "LayoutModel",
          "model_module_version": "1.2.0",
          "state": {
            "_model_module": "@jupyter-widgets/base",
            "_model_module_version": "1.2.0",
            "_model_name": "LayoutModel",
            "_view_count": null,
            "_view_module": "@jupyter-widgets/base",
            "_view_module_version": "1.2.0",
            "_view_name": "LayoutView",
            "align_content": null,
            "align_items": null,
            "align_self": null,
            "border": null,
            "bottom": null,
            "display": null,
            "flex": null,
            "flex_flow": null,
            "grid_area": null,
            "grid_auto_columns": null,
            "grid_auto_flow": null,
            "grid_auto_rows": null,
            "grid_column": null,
            "grid_gap": null,
            "grid_row": null,
            "grid_template_areas": null,
            "grid_template_columns": null,
            "grid_template_rows": null,
            "height": null,
            "justify_content": null,
            "justify_items": null,
            "left": null,
            "margin": null,
            "max_height": null,
            "max_width": null,
            "min_height": null,
            "min_width": null,
            "object_fit": null,
            "object_position": null,
            "order": null,
            "overflow": null,
            "overflow_x": null,
            "overflow_y": null,
            "padding": null,
            "right": null,
            "top": null,
            "visibility": null,
            "width": null
          }
        },
        "5405920364144c41a6056a17a89dccd9": {
          "model_module": "@jupyter-widgets/controls",
          "model_name": "DescriptionStyleModel",
          "model_module_version": "1.5.0",
          "state": {
            "_model_module": "@jupyter-widgets/controls",
            "_model_module_version": "1.5.0",
            "_model_name": "DescriptionStyleModel",
            "_view_count": null,
            "_view_module": "@jupyter-widgets/base",
            "_view_module_version": "1.2.0",
            "_view_name": "StyleView",
            "description_width": ""
          }
        },
        "3a47f1a8eed24046bc906917d28c8246": {
          "model_module": "@jupyter-widgets/controls",
          "model_name": "HBoxModel",
          "model_module_version": "1.5.0",
          "state": {
            "_dom_classes": [],
            "_model_module": "@jupyter-widgets/controls",
            "_model_module_version": "1.5.0",
            "_model_name": "HBoxModel",
            "_view_count": null,
            "_view_module": "@jupyter-widgets/controls",
            "_view_module_version": "1.5.0",
            "_view_name": "HBoxView",
            "box_style": "",
            "children": [
              "IPY_MODEL_0805418258d24d42841f61194f9929cc",
              "IPY_MODEL_64a2938662224eb0bfd2e55ef41f649d",
              "IPY_MODEL_57f394404a854b13ac688852ac1a0883"
            ],
            "layout": "IPY_MODEL_a1b03db3de9d41d19255b925d61039cc"
          }
        },
        "0805418258d24d42841f61194f9929cc": {
          "model_module": "@jupyter-widgets/controls",
          "model_name": "HTMLModel",
          "model_module_version": "1.5.0",
          "state": {
            "_dom_classes": [],
            "_model_module": "@jupyter-widgets/controls",
            "_model_module_version": "1.5.0",
            "_model_name": "HTMLModel",
            "_view_count": null,
            "_view_module": "@jupyter-widgets/controls",
            "_view_module_version": "1.5.0",
            "_view_name": "HTMLView",
            "description": "",
            "description_tooltip": null,
            "layout": "IPY_MODEL_bf83dc27259e47dab0ace421ed4d0aff",
            "placeholder": "​",
            "style": "IPY_MODEL_d3745964dd0d4f628f2186c869beffe6",
            "value": "Downloading (…)olve/main/vocab.json: 100%"
          }
        },
        "64a2938662224eb0bfd2e55ef41f649d": {
          "model_module": "@jupyter-widgets/controls",
          "model_name": "FloatProgressModel",
          "model_module_version": "1.5.0",
          "state": {
            "_dom_classes": [],
            "_model_module": "@jupyter-widgets/controls",
            "_model_module_version": "1.5.0",
            "_model_name": "FloatProgressModel",
            "_view_count": null,
            "_view_module": "@jupyter-widgets/controls",
            "_view_module_version": "1.5.0",
            "_view_name": "ProgressView",
            "bar_style": "success",
            "description": "",
            "description_tooltip": null,
            "layout": "IPY_MODEL_5f8c9f20986941dda5fe516f239a2fee",
            "max": 898823,
            "min": 0,
            "orientation": "horizontal",
            "style": "IPY_MODEL_d318b535ae6a405c97097cfdf4d41d1a",
            "value": 898823
          }
        },
        "57f394404a854b13ac688852ac1a0883": {
          "model_module": "@jupyter-widgets/controls",
          "model_name": "HTMLModel",
          "model_module_version": "1.5.0",
          "state": {
            "_dom_classes": [],
            "_model_module": "@jupyter-widgets/controls",
            "_model_module_version": "1.5.0",
            "_model_name": "HTMLModel",
            "_view_count": null,
            "_view_module": "@jupyter-widgets/controls",
            "_view_module_version": "1.5.0",
            "_view_name": "HTMLView",
            "description": "",
            "description_tooltip": null,
            "layout": "IPY_MODEL_87889c5905d145f683a05a0e018a8470",
            "placeholder": "​",
            "style": "IPY_MODEL_d5795f8f66cd4be59ba94e9607766902",
            "value": " 899k/899k [00:00&lt;00:00, 7.34MB/s]"
          }
        },
        "a1b03db3de9d41d19255b925d61039cc": {
          "model_module": "@jupyter-widgets/base",
          "model_name": "LayoutModel",
          "model_module_version": "1.2.0",
          "state": {
            "_model_module": "@jupyter-widgets/base",
            "_model_module_version": "1.2.0",
            "_model_name": "LayoutModel",
            "_view_count": null,
            "_view_module": "@jupyter-widgets/base",
            "_view_module_version": "1.2.0",
            "_view_name": "LayoutView",
            "align_content": null,
            "align_items": null,
            "align_self": null,
            "border": null,
            "bottom": null,
            "display": null,
            "flex": null,
            "flex_flow": null,
            "grid_area": null,
            "grid_auto_columns": null,
            "grid_auto_flow": null,
            "grid_auto_rows": null,
            "grid_column": null,
            "grid_gap": null,
            "grid_row": null,
            "grid_template_areas": null,
            "grid_template_columns": null,
            "grid_template_rows": null,
            "height": null,
            "justify_content": null,
            "justify_items": null,
            "left": null,
            "margin": null,
            "max_height": null,
            "max_width": null,
            "min_height": null,
            "min_width": null,
            "object_fit": null,
            "object_position": null,
            "order": null,
            "overflow": null,
            "overflow_x": null,
            "overflow_y": null,
            "padding": null,
            "right": null,
            "top": null,
            "visibility": null,
            "width": null
          }
        },
        "bf83dc27259e47dab0ace421ed4d0aff": {
          "model_module": "@jupyter-widgets/base",
          "model_name": "LayoutModel",
          "model_module_version": "1.2.0",
          "state": {
            "_model_module": "@jupyter-widgets/base",
            "_model_module_version": "1.2.0",
            "_model_name": "LayoutModel",
            "_view_count": null,
            "_view_module": "@jupyter-widgets/base",
            "_view_module_version": "1.2.0",
            "_view_name": "LayoutView",
            "align_content": null,
            "align_items": null,
            "align_self": null,
            "border": null,
            "bottom": null,
            "display": null,
            "flex": null,
            "flex_flow": null,
            "grid_area": null,
            "grid_auto_columns": null,
            "grid_auto_flow": null,
            "grid_auto_rows": null,
            "grid_column": null,
            "grid_gap": null,
            "grid_row": null,
            "grid_template_areas": null,
            "grid_template_columns": null,
            "grid_template_rows": null,
            "height": null,
            "justify_content": null,
            "justify_items": null,
            "left": null,
            "margin": null,
            "max_height": null,
            "max_width": null,
            "min_height": null,
            "min_width": null,
            "object_fit": null,
            "object_position": null,
            "order": null,
            "overflow": null,
            "overflow_x": null,
            "overflow_y": null,
            "padding": null,
            "right": null,
            "top": null,
            "visibility": null,
            "width": null
          }
        },
        "d3745964dd0d4f628f2186c869beffe6": {
          "model_module": "@jupyter-widgets/controls",
          "model_name": "DescriptionStyleModel",
          "model_module_version": "1.5.0",
          "state": {
            "_model_module": "@jupyter-widgets/controls",
            "_model_module_version": "1.5.0",
            "_model_name": "DescriptionStyleModel",
            "_view_count": null,
            "_view_module": "@jupyter-widgets/base",
            "_view_module_version": "1.2.0",
            "_view_name": "StyleView",
            "description_width": ""
          }
        },
        "5f8c9f20986941dda5fe516f239a2fee": {
          "model_module": "@jupyter-widgets/base",
          "model_name": "LayoutModel",
          "model_module_version": "1.2.0",
          "state": {
            "_model_module": "@jupyter-widgets/base",
            "_model_module_version": "1.2.0",
            "_model_name": "LayoutModel",
            "_view_count": null,
            "_view_module": "@jupyter-widgets/base",
            "_view_module_version": "1.2.0",
            "_view_name": "LayoutView",
            "align_content": null,
            "align_items": null,
            "align_self": null,
            "border": null,
            "bottom": null,
            "display": null,
            "flex": null,
            "flex_flow": null,
            "grid_area": null,
            "grid_auto_columns": null,
            "grid_auto_flow": null,
            "grid_auto_rows": null,
            "grid_column": null,
            "grid_gap": null,
            "grid_row": null,
            "grid_template_areas": null,
            "grid_template_columns": null,
            "grid_template_rows": null,
            "height": null,
            "justify_content": null,
            "justify_items": null,
            "left": null,
            "margin": null,
            "max_height": null,
            "max_width": null,
            "min_height": null,
            "min_width": null,
            "object_fit": null,
            "object_position": null,
            "order": null,
            "overflow": null,
            "overflow_x": null,
            "overflow_y": null,
            "padding": null,
            "right": null,
            "top": null,
            "visibility": null,
            "width": null
          }
        },
        "d318b535ae6a405c97097cfdf4d41d1a": {
          "model_module": "@jupyter-widgets/controls",
          "model_name": "ProgressStyleModel",
          "model_module_version": "1.5.0",
          "state": {
            "_model_module": "@jupyter-widgets/controls",
            "_model_module_version": "1.5.0",
            "_model_name": "ProgressStyleModel",
            "_view_count": null,
            "_view_module": "@jupyter-widgets/base",
            "_view_module_version": "1.2.0",
            "_view_name": "StyleView",
            "bar_color": null,
            "description_width": ""
          }
        },
        "87889c5905d145f683a05a0e018a8470": {
          "model_module": "@jupyter-widgets/base",
          "model_name": "LayoutModel",
          "model_module_version": "1.2.0",
          "state": {
            "_model_module": "@jupyter-widgets/base",
            "_model_module_version": "1.2.0",
            "_model_name": "LayoutModel",
            "_view_count": null,
            "_view_module": "@jupyter-widgets/base",
            "_view_module_version": "1.2.0",
            "_view_name": "LayoutView",
            "align_content": null,
            "align_items": null,
            "align_self": null,
            "border": null,
            "bottom": null,
            "display": null,
            "flex": null,
            "flex_flow": null,
            "grid_area": null,
            "grid_auto_columns": null,
            "grid_auto_flow": null,
            "grid_auto_rows": null,
            "grid_column": null,
            "grid_gap": null,
            "grid_row": null,
            "grid_template_areas": null,
            "grid_template_columns": null,
            "grid_template_rows": null,
            "height": null,
            "justify_content": null,
            "justify_items": null,
            "left": null,
            "margin": null,
            "max_height": null,
            "max_width": null,
            "min_height": null,
            "min_width": null,
            "object_fit": null,
            "object_position": null,
            "order": null,
            "overflow": null,
            "overflow_x": null,
            "overflow_y": null,
            "padding": null,
            "right": null,
            "top": null,
            "visibility": null,
            "width": null
          }
        },
        "d5795f8f66cd4be59ba94e9607766902": {
          "model_module": "@jupyter-widgets/controls",
          "model_name": "DescriptionStyleModel",
          "model_module_version": "1.5.0",
          "state": {
            "_model_module": "@jupyter-widgets/controls",
            "_model_module_version": "1.5.0",
            "_model_name": "DescriptionStyleModel",
            "_view_count": null,
            "_view_module": "@jupyter-widgets/base",
            "_view_module_version": "1.2.0",
            "_view_name": "StyleView",
            "description_width": ""
          }
        },
        "267e33a645a24391bafff0f0f23561c0": {
          "model_module": "@jupyter-widgets/controls",
          "model_name": "HBoxModel",
          "model_module_version": "1.5.0",
          "state": {
            "_dom_classes": [],
            "_model_module": "@jupyter-widgets/controls",
            "_model_module_version": "1.5.0",
            "_model_name": "HBoxModel",
            "_view_count": null,
            "_view_module": "@jupyter-widgets/controls",
            "_view_module_version": "1.5.0",
            "_view_name": "HBoxView",
            "box_style": "",
            "children": [
              "IPY_MODEL_9c1f4540be8641068f1e34b811cbaef3",
              "IPY_MODEL_417bf58044ea4568a206ef40c1b433a0",
              "IPY_MODEL_0df67652f3b048679736d3bb0cd547e4"
            ],
            "layout": "IPY_MODEL_c24daa51796b4fa597deebb2e4ca6446"
          }
        },
        "9c1f4540be8641068f1e34b811cbaef3": {
          "model_module": "@jupyter-widgets/controls",
          "model_name": "HTMLModel",
          "model_module_version": "1.5.0",
          "state": {
            "_dom_classes": [],
            "_model_module": "@jupyter-widgets/controls",
            "_model_module_version": "1.5.0",
            "_model_name": "HTMLModel",
            "_view_count": null,
            "_view_module": "@jupyter-widgets/controls",
            "_view_module_version": "1.5.0",
            "_view_name": "HTMLView",
            "description": "",
            "description_tooltip": null,
            "layout": "IPY_MODEL_56486c8a251041bbb97ec448889e0599",
            "placeholder": "​",
            "style": "IPY_MODEL_88505d8e1fbf47e48e9fec83c4dad315",
            "value": "Downloading (…)olve/main/merges.txt: 100%"
          }
        },
        "417bf58044ea4568a206ef40c1b433a0": {
          "model_module": "@jupyter-widgets/controls",
          "model_name": "FloatProgressModel",
          "model_module_version": "1.5.0",
          "state": {
            "_dom_classes": [],
            "_model_module": "@jupyter-widgets/controls",
            "_model_module_version": "1.5.0",
            "_model_name": "FloatProgressModel",
            "_view_count": null,
            "_view_module": "@jupyter-widgets/controls",
            "_view_module_version": "1.5.0",
            "_view_name": "ProgressView",
            "bar_style": "success",
            "description": "",
            "description_tooltip": null,
            "layout": "IPY_MODEL_ae855ed68de541589ffed2bc64595dc4",
            "max": 456318,
            "min": 0,
            "orientation": "horizontal",
            "style": "IPY_MODEL_e56b38019426414481612ddebdbe3804",
            "value": 456318
          }
        },
        "0df67652f3b048679736d3bb0cd547e4": {
          "model_module": "@jupyter-widgets/controls",
          "model_name": "HTMLModel",
          "model_module_version": "1.5.0",
          "state": {
            "_dom_classes": [],
            "_model_module": "@jupyter-widgets/controls",
            "_model_module_version": "1.5.0",
            "_model_name": "HTMLModel",
            "_view_count": null,
            "_view_module": "@jupyter-widgets/controls",
            "_view_module_version": "1.5.0",
            "_view_name": "HTMLView",
            "description": "",
            "description_tooltip": null,
            "layout": "IPY_MODEL_19bb979caca8461a8021c67e2f6934d1",
            "placeholder": "​",
            "style": "IPY_MODEL_1dbe4c30ffc649fa9dad01f53e68cef6",
            "value": " 456k/456k [00:00&lt;00:00, 15.9MB/s]"
          }
        },
        "c24daa51796b4fa597deebb2e4ca6446": {
          "model_module": "@jupyter-widgets/base",
          "model_name": "LayoutModel",
          "model_module_version": "1.2.0",
          "state": {
            "_model_module": "@jupyter-widgets/base",
            "_model_module_version": "1.2.0",
            "_model_name": "LayoutModel",
            "_view_count": null,
            "_view_module": "@jupyter-widgets/base",
            "_view_module_version": "1.2.0",
            "_view_name": "LayoutView",
            "align_content": null,
            "align_items": null,
            "align_self": null,
            "border": null,
            "bottom": null,
            "display": null,
            "flex": null,
            "flex_flow": null,
            "grid_area": null,
            "grid_auto_columns": null,
            "grid_auto_flow": null,
            "grid_auto_rows": null,
            "grid_column": null,
            "grid_gap": null,
            "grid_row": null,
            "grid_template_areas": null,
            "grid_template_columns": null,
            "grid_template_rows": null,
            "height": null,
            "justify_content": null,
            "justify_items": null,
            "left": null,
            "margin": null,
            "max_height": null,
            "max_width": null,
            "min_height": null,
            "min_width": null,
            "object_fit": null,
            "object_position": null,
            "order": null,
            "overflow": null,
            "overflow_x": null,
            "overflow_y": null,
            "padding": null,
            "right": null,
            "top": null,
            "visibility": null,
            "width": null
          }
        },
        "56486c8a251041bbb97ec448889e0599": {
          "model_module": "@jupyter-widgets/base",
          "model_name": "LayoutModel",
          "model_module_version": "1.2.0",
          "state": {
            "_model_module": "@jupyter-widgets/base",
            "_model_module_version": "1.2.0",
            "_model_name": "LayoutModel",
            "_view_count": null,
            "_view_module": "@jupyter-widgets/base",
            "_view_module_version": "1.2.0",
            "_view_name": "LayoutView",
            "align_content": null,
            "align_items": null,
            "align_self": null,
            "border": null,
            "bottom": null,
            "display": null,
            "flex": null,
            "flex_flow": null,
            "grid_area": null,
            "grid_auto_columns": null,
            "grid_auto_flow": null,
            "grid_auto_rows": null,
            "grid_column": null,
            "grid_gap": null,
            "grid_row": null,
            "grid_template_areas": null,
            "grid_template_columns": null,
            "grid_template_rows": null,
            "height": null,
            "justify_content": null,
            "justify_items": null,
            "left": null,
            "margin": null,
            "max_height": null,
            "max_width": null,
            "min_height": null,
            "min_width": null,
            "object_fit": null,
            "object_position": null,
            "order": null,
            "overflow": null,
            "overflow_x": null,
            "overflow_y": null,
            "padding": null,
            "right": null,
            "top": null,
            "visibility": null,
            "width": null
          }
        },
        "88505d8e1fbf47e48e9fec83c4dad315": {
          "model_module": "@jupyter-widgets/controls",
          "model_name": "DescriptionStyleModel",
          "model_module_version": "1.5.0",
          "state": {
            "_model_module": "@jupyter-widgets/controls",
            "_model_module_version": "1.5.0",
            "_model_name": "DescriptionStyleModel",
            "_view_count": null,
            "_view_module": "@jupyter-widgets/base",
            "_view_module_version": "1.2.0",
            "_view_name": "StyleView",
            "description_width": ""
          }
        },
        "ae855ed68de541589ffed2bc64595dc4": {
          "model_module": "@jupyter-widgets/base",
          "model_name": "LayoutModel",
          "model_module_version": "1.2.0",
          "state": {
            "_model_module": "@jupyter-widgets/base",
            "_model_module_version": "1.2.0",
            "_model_name": "LayoutModel",
            "_view_count": null,
            "_view_module": "@jupyter-widgets/base",
            "_view_module_version": "1.2.0",
            "_view_name": "LayoutView",
            "align_content": null,
            "align_items": null,
            "align_self": null,
            "border": null,
            "bottom": null,
            "display": null,
            "flex": null,
            "flex_flow": null,
            "grid_area": null,
            "grid_auto_columns": null,
            "grid_auto_flow": null,
            "grid_auto_rows": null,
            "grid_column": null,
            "grid_gap": null,
            "grid_row": null,
            "grid_template_areas": null,
            "grid_template_columns": null,
            "grid_template_rows": null,
            "height": null,
            "justify_content": null,
            "justify_items": null,
            "left": null,
            "margin": null,
            "max_height": null,
            "max_width": null,
            "min_height": null,
            "min_width": null,
            "object_fit": null,
            "object_position": null,
            "order": null,
            "overflow": null,
            "overflow_x": null,
            "overflow_y": null,
            "padding": null,
            "right": null,
            "top": null,
            "visibility": null,
            "width": null
          }
        },
        "e56b38019426414481612ddebdbe3804": {
          "model_module": "@jupyter-widgets/controls",
          "model_name": "ProgressStyleModel",
          "model_module_version": "1.5.0",
          "state": {
            "_model_module": "@jupyter-widgets/controls",
            "_model_module_version": "1.5.0",
            "_model_name": "ProgressStyleModel",
            "_view_count": null,
            "_view_module": "@jupyter-widgets/base",
            "_view_module_version": "1.2.0",
            "_view_name": "StyleView",
            "bar_color": null,
            "description_width": ""
          }
        },
        "19bb979caca8461a8021c67e2f6934d1": {
          "model_module": "@jupyter-widgets/base",
          "model_name": "LayoutModel",
          "model_module_version": "1.2.0",
          "state": {
            "_model_module": "@jupyter-widgets/base",
            "_model_module_version": "1.2.0",
            "_model_name": "LayoutModel",
            "_view_count": null,
            "_view_module": "@jupyter-widgets/base",
            "_view_module_version": "1.2.0",
            "_view_name": "LayoutView",
            "align_content": null,
            "align_items": null,
            "align_self": null,
            "border": null,
            "bottom": null,
            "display": null,
            "flex": null,
            "flex_flow": null,
            "grid_area": null,
            "grid_auto_columns": null,
            "grid_auto_flow": null,
            "grid_auto_rows": null,
            "grid_column": null,
            "grid_gap": null,
            "grid_row": null,
            "grid_template_areas": null,
            "grid_template_columns": null,
            "grid_template_rows": null,
            "height": null,
            "justify_content": null,
            "justify_items": null,
            "left": null,
            "margin": null,
            "max_height": null,
            "max_width": null,
            "min_height": null,
            "min_width": null,
            "object_fit": null,
            "object_position": null,
            "order": null,
            "overflow": null,
            "overflow_x": null,
            "overflow_y": null,
            "padding": null,
            "right": null,
            "top": null,
            "visibility": null,
            "width": null
          }
        },
        "1dbe4c30ffc649fa9dad01f53e68cef6": {
          "model_module": "@jupyter-widgets/controls",
          "model_name": "DescriptionStyleModel",
          "model_module_version": "1.5.0",
          "state": {
            "_model_module": "@jupyter-widgets/controls",
            "_model_module_version": "1.5.0",
            "_model_name": "DescriptionStyleModel",
            "_view_count": null,
            "_view_module": "@jupyter-widgets/base",
            "_view_module_version": "1.2.0",
            "_view_name": "StyleView",
            "description_width": ""
          }
        },
        "7b16c5d5bd7e4668baab3b62a218f176": {
          "model_module": "@jupyter-widgets/controls",
          "model_name": "HBoxModel",
          "model_module_version": "1.5.0",
          "state": {
            "_dom_classes": [],
            "_model_module": "@jupyter-widgets/controls",
            "_model_module_version": "1.5.0",
            "_model_name": "HBoxModel",
            "_view_count": null,
            "_view_module": "@jupyter-widgets/controls",
            "_view_module_version": "1.5.0",
            "_view_name": "HBoxView",
            "box_style": "",
            "children": [
              "IPY_MODEL_293ac92e943f4b88bfcd8b9614e05746",
              "IPY_MODEL_f3d9e83c545e44f6a88bbf7504e65b0d",
              "IPY_MODEL_83446e62018d4a7da3207b5d1e6c0550"
            ],
            "layout": "IPY_MODEL_d121448fd17341f9b47315fbd3f2927a"
          }
        },
        "293ac92e943f4b88bfcd8b9614e05746": {
          "model_module": "@jupyter-widgets/controls",
          "model_name": "HTMLModel",
          "model_module_version": "1.5.0",
          "state": {
            "_dom_classes": [],
            "_model_module": "@jupyter-widgets/controls",
            "_model_module_version": "1.5.0",
            "_model_name": "HTMLModel",
            "_view_count": null,
            "_view_module": "@jupyter-widgets/controls",
            "_view_module_version": "1.5.0",
            "_view_name": "HTMLView",
            "description": "",
            "description_tooltip": null,
            "layout": "IPY_MODEL_40b37f6d24254b00b8cfec15d7ada503",
            "placeholder": "​",
            "style": "IPY_MODEL_4fead4b9b14d4341bb5ab1668ca775f5",
            "value": "Downloading (…)/main/tokenizer.json: 100%"
          }
        },
        "f3d9e83c545e44f6a88bbf7504e65b0d": {
          "model_module": "@jupyter-widgets/controls",
          "model_name": "FloatProgressModel",
          "model_module_version": "1.5.0",
          "state": {
            "_dom_classes": [],
            "_model_module": "@jupyter-widgets/controls",
            "_model_module_version": "1.5.0",
            "_model_name": "FloatProgressModel",
            "_view_count": null,
            "_view_module": "@jupyter-widgets/controls",
            "_view_module_version": "1.5.0",
            "_view_name": "ProgressView",
            "bar_style": "success",
            "description": "",
            "description_tooltip": null,
            "layout": "IPY_MODEL_7fab8dd60f664fcf960afd22e8ce4fe0",
            "max": 1355863,
            "min": 0,
            "orientation": "horizontal",
            "style": "IPY_MODEL_11ca27dcde6247b29f860f05eff8782b",
            "value": 1355863
          }
        },
        "83446e62018d4a7da3207b5d1e6c0550": {
          "model_module": "@jupyter-widgets/controls",
          "model_name": "HTMLModel",
          "model_module_version": "1.5.0",
          "state": {
            "_dom_classes": [],
            "_model_module": "@jupyter-widgets/controls",
            "_model_module_version": "1.5.0",
            "_model_name": "HTMLModel",
            "_view_count": null,
            "_view_module": "@jupyter-widgets/controls",
            "_view_module_version": "1.5.0",
            "_view_name": "HTMLView",
            "description": "",
            "description_tooltip": null,
            "layout": "IPY_MODEL_a02cb75a547245f1b32a63b09ac4e3fc",
            "placeholder": "​",
            "style": "IPY_MODEL_2ae1dd7c3f8348eb9ad3203e2ccbc0bb",
            "value": " 1.36M/1.36M [00:00&lt;00:00, 16.5MB/s]"
          }
        },
        "d121448fd17341f9b47315fbd3f2927a": {
          "model_module": "@jupyter-widgets/base",
          "model_name": "LayoutModel",
          "model_module_version": "1.2.0",
          "state": {
            "_model_module": "@jupyter-widgets/base",
            "_model_module_version": "1.2.0",
            "_model_name": "LayoutModel",
            "_view_count": null,
            "_view_module": "@jupyter-widgets/base",
            "_view_module_version": "1.2.0",
            "_view_name": "LayoutView",
            "align_content": null,
            "align_items": null,
            "align_self": null,
            "border": null,
            "bottom": null,
            "display": null,
            "flex": null,
            "flex_flow": null,
            "grid_area": null,
            "grid_auto_columns": null,
            "grid_auto_flow": null,
            "grid_auto_rows": null,
            "grid_column": null,
            "grid_gap": null,
            "grid_row": null,
            "grid_template_areas": null,
            "grid_template_columns": null,
            "grid_template_rows": null,
            "height": null,
            "justify_content": null,
            "justify_items": null,
            "left": null,
            "margin": null,
            "max_height": null,
            "max_width": null,
            "min_height": null,
            "min_width": null,
            "object_fit": null,
            "object_position": null,
            "order": null,
            "overflow": null,
            "overflow_x": null,
            "overflow_y": null,
            "padding": null,
            "right": null,
            "top": null,
            "visibility": null,
            "width": null
          }
        },
        "40b37f6d24254b00b8cfec15d7ada503": {
          "model_module": "@jupyter-widgets/base",
          "model_name": "LayoutModel",
          "model_module_version": "1.2.0",
          "state": {
            "_model_module": "@jupyter-widgets/base",
            "_model_module_version": "1.2.0",
            "_model_name": "LayoutModel",
            "_view_count": null,
            "_view_module": "@jupyter-widgets/base",
            "_view_module_version": "1.2.0",
            "_view_name": "LayoutView",
            "align_content": null,
            "align_items": null,
            "align_self": null,
            "border": null,
            "bottom": null,
            "display": null,
            "flex": null,
            "flex_flow": null,
            "grid_area": null,
            "grid_auto_columns": null,
            "grid_auto_flow": null,
            "grid_auto_rows": null,
            "grid_column": null,
            "grid_gap": null,
            "grid_row": null,
            "grid_template_areas": null,
            "grid_template_columns": null,
            "grid_template_rows": null,
            "height": null,
            "justify_content": null,
            "justify_items": null,
            "left": null,
            "margin": null,
            "max_height": null,
            "max_width": null,
            "min_height": null,
            "min_width": null,
            "object_fit": null,
            "object_position": null,
            "order": null,
            "overflow": null,
            "overflow_x": null,
            "overflow_y": null,
            "padding": null,
            "right": null,
            "top": null,
            "visibility": null,
            "width": null
          }
        },
        "4fead4b9b14d4341bb5ab1668ca775f5": {
          "model_module": "@jupyter-widgets/controls",
          "model_name": "DescriptionStyleModel",
          "model_module_version": "1.5.0",
          "state": {
            "_model_module": "@jupyter-widgets/controls",
            "_model_module_version": "1.5.0",
            "_model_name": "DescriptionStyleModel",
            "_view_count": null,
            "_view_module": "@jupyter-widgets/base",
            "_view_module_version": "1.2.0",
            "_view_name": "StyleView",
            "description_width": ""
          }
        },
        "7fab8dd60f664fcf960afd22e8ce4fe0": {
          "model_module": "@jupyter-widgets/base",
          "model_name": "LayoutModel",
          "model_module_version": "1.2.0",
          "state": {
            "_model_module": "@jupyter-widgets/base",
            "_model_module_version": "1.2.0",
            "_model_name": "LayoutModel",
            "_view_count": null,
            "_view_module": "@jupyter-widgets/base",
            "_view_module_version": "1.2.0",
            "_view_name": "LayoutView",
            "align_content": null,
            "align_items": null,
            "align_self": null,
            "border": null,
            "bottom": null,
            "display": null,
            "flex": null,
            "flex_flow": null,
            "grid_area": null,
            "grid_auto_columns": null,
            "grid_auto_flow": null,
            "grid_auto_rows": null,
            "grid_column": null,
            "grid_gap": null,
            "grid_row": null,
            "grid_template_areas": null,
            "grid_template_columns": null,
            "grid_template_rows": null,
            "height": null,
            "justify_content": null,
            "justify_items": null,
            "left": null,
            "margin": null,
            "max_height": null,
            "max_width": null,
            "min_height": null,
            "min_width": null,
            "object_fit": null,
            "object_position": null,
            "order": null,
            "overflow": null,
            "overflow_x": null,
            "overflow_y": null,
            "padding": null,
            "right": null,
            "top": null,
            "visibility": null,
            "width": null
          }
        },
        "11ca27dcde6247b29f860f05eff8782b": {
          "model_module": "@jupyter-widgets/controls",
          "model_name": "ProgressStyleModel",
          "model_module_version": "1.5.0",
          "state": {
            "_model_module": "@jupyter-widgets/controls",
            "_model_module_version": "1.5.0",
            "_model_name": "ProgressStyleModel",
            "_view_count": null,
            "_view_module": "@jupyter-widgets/base",
            "_view_module_version": "1.2.0",
            "_view_name": "StyleView",
            "bar_color": null,
            "description_width": ""
          }
        },
        "a02cb75a547245f1b32a63b09ac4e3fc": {
          "model_module": "@jupyter-widgets/base",
          "model_name": "LayoutModel",
          "model_module_version": "1.2.0",
          "state": {
            "_model_module": "@jupyter-widgets/base",
            "_model_module_version": "1.2.0",
            "_model_name": "LayoutModel",
            "_view_count": null,
            "_view_module": "@jupyter-widgets/base",
            "_view_module_version": "1.2.0",
            "_view_name": "LayoutView",
            "align_content": null,
            "align_items": null,
            "align_self": null,
            "border": null,
            "bottom": null,
            "display": null,
            "flex": null,
            "flex_flow": null,
            "grid_area": null,
            "grid_auto_columns": null,
            "grid_auto_flow": null,
            "grid_auto_rows": null,
            "grid_column": null,
            "grid_gap": null,
            "grid_row": null,
            "grid_template_areas": null,
            "grid_template_columns": null,
            "grid_template_rows": null,
            "height": null,
            "justify_content": null,
            "justify_items": null,
            "left": null,
            "margin": null,
            "max_height": null,
            "max_width": null,
            "min_height": null,
            "min_width": null,
            "object_fit": null,
            "object_position": null,
            "order": null,
            "overflow": null,
            "overflow_x": null,
            "overflow_y": null,
            "padding": null,
            "right": null,
            "top": null,
            "visibility": null,
            "width": null
          }
        },
        "2ae1dd7c3f8348eb9ad3203e2ccbc0bb": {
          "model_module": "@jupyter-widgets/controls",
          "model_name": "DescriptionStyleModel",
          "model_module_version": "1.5.0",
          "state": {
            "_model_module": "@jupyter-widgets/controls",
            "_model_module_version": "1.5.0",
            "_model_name": "DescriptionStyleModel",
            "_view_count": null,
            "_view_module": "@jupyter-widgets/base",
            "_view_module_version": "1.2.0",
            "_view_name": "StyleView",
            "description_width": ""
          }
        }
      }
    }
  },
  "nbformat": 4,
  "nbformat_minor": 0
}